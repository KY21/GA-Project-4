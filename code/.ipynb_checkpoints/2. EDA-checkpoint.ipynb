{
 "cells": [
  {
   "cell_type": "markdown",
   "id": "0e284da3",
   "metadata": {},
   "source": [
    "# Exploratory Data Analysis"
   ]
  },
  {
   "cell_type": "code",
   "execution_count": 1,
   "id": "2049163b",
   "metadata": {
    "ExecuteTime": {
     "end_time": "2022-02-24T07:06:44.693813Z",
     "start_time": "2022-02-24T07:06:43.531940Z"
    }
   },
   "outputs": [],
   "source": [
    "import pandas as pd\n",
    "import numpy as np\n",
    "import time\n",
    "import matplotlib.pyplot as plt\n",
    "import seaborn as sns\n",
    "pd.set_option('display.max_columns', None)\n",
    "\n",
    "import warnings\n",
    "warnings.filterwarnings(\"ignore\")"
   ]
  },
  {
   "cell_type": "code",
   "execution_count": 2,
   "id": "625bff51",
   "metadata": {
    "ExecuteTime": {
     "end_time": "2022-02-24T07:06:45.371903Z",
     "start_time": "2022-02-24T07:06:44.695736Z"
    },
    "scrolled": true
   },
   "outputs": [
    {
     "name": "stdout",
     "output_type": "stream",
     "text": [
      "(10506, 16)\n",
      "(116293, 14)\n",
      "(1472, 19)\n",
      "(14251, 7)\n"
     ]
    }
   ],
   "source": [
    "# Load datasets\n",
    "train = pd.read_csv('../assets/train_cleaned.csv')\n",
    "test = pd.read_csv('../assets/test_cleaned.csv')\n",
    "weather = pd.read_csv('../assets/weather_cleaned.csv')\n",
    "spray = pd.read_csv('../assets/spray_cleaned.csv')\n",
    "\n",
    "train['Date'] = pd.to_datetime(train['Date'])\n",
    "test['Date'] = pd.to_datetime(test['Date'])\n",
    "test.drop('Id', axis=1, inplace=True)\n",
    "weather['Date'] = pd.to_datetime(weather['Date'])\n",
    "spray['Date'] = pd.to_datetime(spray['Date'])\n",
    "spray['Time'] = pd.to_datetime(spray['Time'])\n",
    "\n",
    "print(train.shape)\n",
    "print(test.shape)\n",
    "print(weather.shape)\n",
    "print(spray.shape)"
   ]
  },
  {
   "cell_type": "code",
   "execution_count": null,
   "id": "63991955",
   "metadata": {
    "ExecuteTime": {
     "end_time": "2022-02-24T07:06:45.425807Z",
     "start_time": "2022-02-24T07:06:45.398071Z"
    },
    "scrolled": true
   },
   "outputs": [],
   "source": [
    "train_weather = pd.merge(train, weather, on=['Date', 'Year', 'Week', 'Month', 'DayOfWeek'], how='inner')\n",
    "print(train_weather.shape)\n",
    "\n",
    "train_weather.head(10).T"
   ]
  },
  {
   "cell_type": "markdown",
   "id": "1610fca8",
   "metadata": {},
   "source": [
    "## Exploring Correlation"
   ]
  },
  {
   "cell_type": "code",
   "execution_count": null,
   "id": "e2475142",
   "metadata": {
    "ExecuteTime": {
     "end_time": "2022-02-24T07:06:47.482858Z",
     "start_time": "2022-02-24T07:06:45.426664Z"
    },
    "scrolled": false
   },
   "outputs": [],
   "source": [
    "plt.figure(figsize=(25,18))\n",
    "plt.title('Heatmap of Weather & Train Data',fontsize=18)\n",
    "sns.heatmap(train_weather.corr(),annot=True, cmap=\"coolwarm\");"
   ]
  },
  {
   "cell_type": "markdown",
   "id": "a271755a",
   "metadata": {},
   "source": [
    "From the heatmap above, we can see that \n",
    "- no feature is strong correlated to our target variable `WnvPresent`\n",
    "- our data faces an issue with **multicollinearity**. We note that the following features are strongly correlated, as all these features are measurement for similar factors. e.g.:\n",
    "    - `Tmin`, `Tmax`, `Tavg`, `DewPoint`, `WetBulb`, `Heat` and `Cool` (features measuring temperature)\n",
    "    - `SeaLevel` and `StnPressure` (features measuring air pressure)\n",
    "    - `ResultSpeed` and `AvgSpeed` (features measuring speed of wind)\n",
    "\n",
    "However, these features are parameters that may affect our target variable `WnvPresent`, so we will not drop them.\n",
    "\n",
    "## Occurrence of West Nile Virus"
   ]
  },
  {
   "cell_type": "code",
   "execution_count": null,
   "id": "dff55bc2",
   "metadata": {
    "ExecuteTime": {
     "end_time": "2022-02-24T07:06:47.546094Z",
     "start_time": "2022-02-24T07:06:47.483765Z"
    }
   },
   "outputs": [],
   "source": [
    "plt.title('Presence of West Nile Virus')\n",
    "sns.barplot(x=[\"Present\",\"Not Present\"], y=train_weather['WnvPresent'].value_counts(ascending=True));\n",
    "\n",
    "perc_nwv = round(train_weather['WnvPresent'].value_counts()[1]/train_weather['WnvPresent'].value_counts().sum(),4)*100\n",
    "print(f'{perc_nwv}% of the mosquitoes captured are WnvPresent')"
   ]
  },
  {
   "cell_type": "markdown",
   "id": "8c8421ec",
   "metadata": {},
   "source": [
    "## Exploring Time Period"
   ]
  },
  {
   "cell_type": "code",
   "execution_count": null,
   "id": "a314c727",
   "metadata": {
    "ExecuteTime": {
     "end_time": "2022-02-24T07:06:47.623248Z",
     "start_time": "2022-02-24T07:06:47.548525Z"
    }
   },
   "outputs": [],
   "source": [
    "plt.title('Number of Traps per Year')\n",
    "train['Year'].value_counts().sort_index(ascending=True).plot(kind = 'bar');"
   ]
  },
  {
   "cell_type": "code",
   "execution_count": null,
   "id": "3cc84ef1",
   "metadata": {
    "ExecuteTime": {
     "end_time": "2022-02-24T07:06:47.771877Z",
     "start_time": "2022-02-24T07:06:47.625717Z"
    }
   },
   "outputs": [],
   "source": [
    "plt.figure(figsize=(15,4))\n",
    "\n",
    "years = list(train_weather[\"Year\"].unique())\n",
    "years.reverse()\n",
    "years_axis = np.arange(len(list(train_weather[\"Year\"].unique())))\n",
    "\n",
    "WnvPresent = []\n",
    "for year in years:\n",
    "    WnvPresent.append(train_weather[train_weather['WnvPresent']==1][\"Year\"].value_counts()[year])\n",
    "    \n",
    "WnvNotPresent = []\n",
    "for year in years:\n",
    "    WnvNotPresent.append(train_weather[train_weather['WnvPresent']==0][\"Year\"].value_counts()[year])\n",
    "\n",
    "plt.barh(years_axis - 0.2, WnvPresent, 0.4, label = 'Present')\n",
    "plt.barh(years_axis + 0.2, WnvNotPresent, 0.4, label = 'Not Present')\n",
    "\n",
    "plt.yticks(years_axis, years)\n",
    "\n",
    "plt.ylabel(\"Year\")\n",
    "plt.xlabel(\"Number of Traps\")\n",
    "plt.legend()\n",
    "plt.title('Presence of West Nile Virus per Year')\n",
    "plt.show()"
   ]
  },
  {
   "cell_type": "code",
   "execution_count": null,
   "id": "fee19ba5",
   "metadata": {
    "ExecuteTime": {
     "end_time": "2022-02-24T07:06:48.242943Z",
     "start_time": "2022-02-24T07:06:47.772819Z"
    }
   },
   "outputs": [],
   "source": [
    "plt.figure(figsize=(8,6))\n",
    "plt.title('Presence of West Nile Virus per Month per Year')\n",
    "\n",
    "sns.lineplot(data = train_weather, \n",
    "             x='Month', \n",
    "             y='WnvPresent', \n",
    "             hue='Year',\n",
    "             ci = 10);"
   ]
  },
  {
   "cell_type": "code",
   "execution_count": null,
   "id": "7445ddf9",
   "metadata": {
    "ExecuteTime": {
     "end_time": "2022-02-24T07:06:48.541014Z",
     "start_time": "2022-02-24T07:06:48.243936Z"
    },
    "scrolled": true
   },
   "outputs": [],
   "source": [
    "years = [2007, 2009, 2011, 2013]\n",
    "max_val = max([train_weather[train_weather[\"Year\"]==year].groupby(by='Month')[\"WnvPresent\"].sum().max() for year in years])\n",
    "\n",
    "for year in years:\n",
    "    fig, ax = plt.subplots(1,1,figsize=(8,8))\n",
    "    sns.barplot(data=train_weather[train_weather[\"Year\"]==year].groupby(by='Month').sum().reset_index(), \n",
    "                x='Month', y='WnvPresent', ax=ax, palette=\"muted\")\n",
    "    plt.ylim([0, max_val+10])\n",
    "    ax.set_title(f\"Presence of West Nile Virus per Month in {year}\");"
   ]
  },
  {
   "cell_type": "code",
   "execution_count": null,
   "id": "fd16fad8",
   "metadata": {
    "ExecuteTime": {
     "end_time": "2022-02-24T07:06:48.674082Z",
     "start_time": "2022-02-24T07:06:48.541923Z"
    },
    "scrolled": false
   },
   "outputs": [],
   "source": [
    "fig, ax = plt.subplots(1,1,figsize=(15,8))\n",
    "sns.barplot(data=train_weather.groupby(by='Week').sum().reset_index(), \n",
    "            x=\"Week\", y='WnvPresent', ax=ax, palette=\"muted\")\n",
    "ax.set_title(\"Presence of West Nile Virus per Week\");"
   ]
  },
  {
   "cell_type": "code",
   "execution_count": null,
   "id": "0bb828dd",
   "metadata": {
    "ExecuteTime": {
     "end_time": "2022-02-24T07:06:49.097632Z",
     "start_time": "2022-02-24T07:06:48.675023Z"
    },
    "scrolled": true
   },
   "outputs": [],
   "source": [
    "years = [2007, 2009, 2011, 2013]\n",
    "max_val = max([train_weather[train_weather[\"Year\"]==year].groupby(by='Week')[\"WnvPresent\"].sum().max() for year in years])\n",
    "\n",
    "for year in years:\n",
    "    data = train_weather[train_weather[\"Year\"]==year]\n",
    "    fig, ax = plt.subplots(1,1,figsize=(8,5))\n",
    "    sns.barplot(data=data.groupby(by='Week').sum().reset_index(), \n",
    "                x='Week', y='WnvPresent', ax=ax)\n",
    "    plt.ylim([0, max_val+10])\n",
    "    ax.set_title(f\"Presence of West Nile Virus per Week in {year}\");\n"
   ]
  },
  {
   "cell_type": "markdown",
   "id": "9e2e36fc",
   "metadata": {},
   "source": [
    "## Exploring Features (Temperature)"
   ]
  },
  {
   "cell_type": "code",
   "execution_count": null,
   "id": "cab5e26e",
   "metadata": {
    "ExecuteTime": {
     "end_time": "2022-02-24T07:06:49.340146Z",
     "start_time": "2022-02-24T07:06:49.098589Z"
    }
   },
   "outputs": [],
   "source": [
    "sns.lmplot( data=train_weather, \n",
    "           x='Tmin', \n",
    "           y='Tmax',  \n",
    "           fit_reg=False, \n",
    "           hue='WnvPresent', \n",
    "           height=8)\n",
    "\n",
    "plt.xlabel('Min Temperature', fontsize=16)\n",
    "plt.ylabel('Max Temperature', fontsize=16)\n",
    "\n",
    "plt.title('Presence of West Nile Virus vs Temperature', fontsize=20);"
   ]
  },
  {
   "cell_type": "markdown",
   "id": "a8f29797",
   "metadata": {},
   "source": [
    "From the scatter plot, we can see that temperature is positively correlated to the occurrence of West Nile Virus."
   ]
  },
  {
   "cell_type": "code",
   "execution_count": null,
   "id": "c4338509",
   "metadata": {
    "ExecuteTime": {
     "end_time": "2022-02-24T07:06:49.527555Z",
     "start_time": "2022-02-24T07:06:49.341048Z"
    }
   },
   "outputs": [],
   "source": [
    "plt.figure(figsize=(8,6))\n",
    "plt.title('Temperature per Year')\n",
    "plt.ylim([66, 77])\n",
    "\n",
    "clrs = [\"salmon\",\"lightblue\",\"mistyrose\",\"mistyrose\"]\n",
    "\n",
    "sns.barplot(data = train_weather, \n",
    "             x='Year', \n",
    "             y='Tavg', \n",
    "             ci = 10,\n",
    "           palette=clrs);"
   ]
  },
  {
   "cell_type": "markdown",
   "id": "03e4825b",
   "metadata": {},
   "source": [
    "We note that the warmest year (2007) has the highest number of WNV occurences; and the coolest year (2009) has the lowest number of WNV occurences out of the four years. This further confirmed our hypothesis that high temperature is likely to contribute to the high number of cases."
   ]
  },
  {
   "cell_type": "markdown",
   "id": "e144e488",
   "metadata": {},
   "source": [
    "## Exploring Features (Wet Bulb & Dew Point)"
   ]
  },
  {
   "cell_type": "code",
   "execution_count": null,
   "id": "0cec8a36",
   "metadata": {
    "ExecuteTime": {
     "end_time": "2022-02-24T07:06:49.724050Z",
     "start_time": "2022-02-24T07:06:49.528475Z"
    }
   },
   "outputs": [],
   "source": [
    "sns.lmplot( data=train_weather, \n",
    "           x='WetBulb', \n",
    "           y='DewPoint',  \n",
    "           fit_reg=False, \n",
    "           hue='WnvPresent', \n",
    "           height=8)\n",
    "\n",
    "\n",
    "plt.xlabel('Dew Point', fontsize=16)\n",
    "plt.ylabel('Wet Bulb', fontsize=16)\n",
    "\n",
    "plt.title('Presence of West Nile Virus vs Wet Bulb & Dew Point', fontsize=20);"
   ]
  },
  {
   "cell_type": "code",
   "execution_count": null,
   "id": "966b45be",
   "metadata": {
    "ExecuteTime": {
     "end_time": "2022-02-24T07:06:50.428070Z",
     "start_time": "2022-02-24T07:06:49.724952Z"
    }
   },
   "outputs": [],
   "source": [
    "years = [2007, 2009, 2011, 2013]\n",
    "\n",
    "for year in years:\n",
    "    sns.lmplot( data=train_weather[train_weather['Year']==year], \n",
    "               x='WetBulb', \n",
    "               y='DewPoint',  \n",
    "               fit_reg=False, \n",
    "               hue='WnvPresent', \n",
    "               height=8)\n",
    "    \n",
    "    \n",
    "    plt.xlabel('Dew Point', fontsize=16)\n",
    "    plt.ylabel('Wet Bulb', fontsize=16)\n",
    "\n",
    "    plt.title('Presence of West Nile Virus vs Wet Bulb & Dew Point '+ str(year), fontsize=20);"
   ]
  },
  {
   "cell_type": "code",
   "execution_count": null,
   "id": "4087fbfb",
   "metadata": {
    "ExecuteTime": {
     "end_time": "2022-02-24T07:06:50.614419Z",
     "start_time": "2022-02-24T07:06:50.428951Z"
    }
   },
   "outputs": [],
   "source": [
    "plt.figure(figsize=(8,6))\n",
    "plt.title('WetBulb per Year')\n",
    "plt.ylim([58, 68])\n",
    "\n",
    "clrs = [\"salmon\",\"lightblue\",\"mistyrose\",\"mistyrose\"]\n",
    "\n",
    "sns.barplot(data = train_weather, \n",
    "             x='Year', \n",
    "             y='WetBulb', \n",
    "             ci = 10,\n",
    "           palette=clrs);"
   ]
  },
  {
   "cell_type": "code",
   "execution_count": null,
   "id": "2a884067",
   "metadata": {
    "ExecuteTime": {
     "end_time": "2022-02-24T07:06:50.805260Z",
     "start_time": "2022-02-24T07:06:50.615328Z"
    },
    "scrolled": true
   },
   "outputs": [],
   "source": [
    "plt.figure(figsize=(6,8))\n",
    "plt.title('DewPoint by Year')\n",
    "plt.ylim([50, 65])\n",
    "\n",
    "clrs = [\"salmon\",\"lightblue\",\"mistyrose\",\"mistyrose\"]\n",
    "\n",
    "sns.barplot(data = train_weather, \n",
    "             x='Year', \n",
    "             y='DewPoint', \n",
    "             ci = 10,\n",
    "           palette=clrs);"
   ]
  },
  {
   "cell_type": "code",
   "execution_count": null,
   "id": "7c357bc9",
   "metadata": {
    "ExecuteTime": {
     "end_time": "2022-02-24T07:06:51.033712Z",
     "start_time": "2022-02-24T07:06:50.806174Z"
    },
    "scrolled": false
   },
   "outputs": [],
   "source": [
    "plt.figure(figsize=(8,8))\n",
    "plt.title('DewPoint by Month')\n",
    "plt.ylim([50, 70])\n",
    "\n",
    "clrs = [\"paleturquoise\",\"paleturquoise\",\"mistyrose\", \"salmon\",\"paleturquoise\",'lightblue']\n",
    "\n",
    "sns.barplot(data = train_weather, \n",
    "             x='Month', \n",
    "             y='DewPoint', \n",
    "             ci = 10,\n",
    "           palette=clrs);"
   ]
  },
  {
   "cell_type": "code",
   "execution_count": null,
   "id": "2e2a2a1a",
   "metadata": {
    "ExecuteTime": {
     "end_time": "2022-02-24T07:06:51.353164Z",
     "start_time": "2022-02-24T07:06:51.034641Z"
    },
    "scrolled": true
   },
   "outputs": [],
   "source": [
    "years = [2007, 2009, 2011, 2013]\n",
    "max_val = max([train_weather[train_weather[\"Year\"]==year].groupby(by='WetBulb')[\"WnvPresent\"].sum().max() for year in years])\n",
    "\n",
    "\n",
    "for year in years:\n",
    "    plt.figure(figsize=(10,5))\n",
    "    data = train_weather[(train_weather['WnvPresent']==1)\n",
    "                  &(train_weather['Year']==year)]['WetBulb'].value_counts().sort_index(ascending=True)\n",
    "    data.plot.bar(color=\"teal\") \n",
    "    plt.ylim([0, max_val+10])\n",
    "    plt.xticks(rotation=0)\n",
    "    #plt.xlim([0, 80])\n",
    "    plt.title('Presence of West Nile Virus vs Wet Bulb in Year '+ str(year))"
   ]
  },
  {
   "cell_type": "code",
   "execution_count": null,
   "id": "604aada8",
   "metadata": {
    "ExecuteTime": {
     "end_time": "2022-02-24T07:06:51.707748Z",
     "start_time": "2022-02-24T07:06:51.354094Z"
    },
    "scrolled": true
   },
   "outputs": [],
   "source": [
    "years = [2007, 2009, 2011, 2013]\n",
    "max_val = max([train_weather[train_weather[\"Year\"]==year].groupby(by='DewPoint')[\"WnvPresent\"].sum().max() for year in years])\n",
    "\n",
    "for year in years:\n",
    "    plt.figure(figsize=(10,5))\n",
    "    data = train_weather[(train_weather['WnvPresent']==1)\n",
    "                  &(train_weather['Year']==year)]['DewPoint'].value_counts().sort_index(ascending=True)\n",
    "    data.plot.bar(color=\"salmon\") \n",
    "    plt.ylim([0, max_val+10])\n",
    "    plt.xticks(rotation=0)\n",
    "    #plt.xlim([0, 80])\n",
    "    plt.title('Presence of West Nile Virus vs Dew Point in Year '+ str(year))"
   ]
  },
  {
   "cell_type": "markdown",
   "id": "f112e819",
   "metadata": {},
   "source": [
    "## Examining Different Mosquito Species "
   ]
  },
  {
   "cell_type": "code",
   "execution_count": null,
   "id": "27bae428",
   "metadata": {
    "ExecuteTime": {
     "end_time": "2022-02-24T07:06:51.716398Z",
     "start_time": "2022-02-24T07:06:51.711539Z"
    }
   },
   "outputs": [],
   "source": [
    "species_all = pd.DataFrame(train_weather[\"Species\"].value_counts())\n",
    "species_all"
   ]
  },
  {
   "cell_type": "code",
   "execution_count": null,
   "id": "cf2ac661",
   "metadata": {
    "ExecuteTime": {
     "end_time": "2022-02-24T07:06:51.799333Z",
     "start_time": "2022-02-24T07:06:51.718755Z"
    },
    "scrolled": false
   },
   "outputs": [],
   "source": [
    "plt.figure(figsize=(10,5))\n",
    "plt.title('Mosquito Species Collected',fontsize=20)\n",
    "plt.xticks(rotation=90)\n",
    "\n",
    "pal = [\"darkorange\",\"yellowgreen\",\"steelblue\",\"grey\",\"grey\",\"grey\",\"grey\"]\n",
    "sns.countplot(train_weather[\"Species\"], palette=pal);"
   ]
  },
  {
   "cell_type": "code",
   "execution_count": null,
   "id": "d221461d",
   "metadata": {
    "ExecuteTime": {
     "end_time": "2022-02-24T07:06:51.884348Z",
     "start_time": "2022-02-24T07:06:51.800152Z"
    }
   },
   "outputs": [],
   "source": [
    "species = pd.DataFrame(train_weather[\"Species\"].value_counts())\n",
    "species.sort_index(inplace=True)\n",
    "\n",
    "fig = plt.figure(figsize=[12, 12])\n",
    "ax = fig.add_subplot(111)\n",
    "\n",
    "colors = sns.color_palette('muted')\n",
    "\n",
    "ax.pie(species['Species'], \n",
    "       colors=colors, \n",
    "       labels=list(species.index), \n",
    "       labeldistance=1.1, \n",
    "       autopct='%.0f%%')\n",
    "\n",
    "ax.set_title(\"Mosquito Species Collected (%)\");"
   ]
  },
  {
   "cell_type": "code",
   "execution_count": null,
   "id": "f3533c1c",
   "metadata": {
    "ExecuteTime": {
     "end_time": "2022-02-24T07:06:51.890061Z",
     "start_time": "2022-02-24T07:06:51.885305Z"
    }
   },
   "outputs": [],
   "source": [
    "species_wnv = pd.DataFrame(train_weather[train_weather['WnvPresent']==1][\"Species\"].value_counts())\n",
    "species_wnv"
   ]
  },
  {
   "cell_type": "code",
   "execution_count": null,
   "id": "1439c438",
   "metadata": {
    "ExecuteTime": {
     "end_time": "2022-02-24T07:06:51.954870Z",
     "start_time": "2022-02-24T07:06:51.891070Z"
    }
   },
   "outputs": [],
   "source": [
    "plt.title('Mosquito Species Collected that has West Nile Virus')\n",
    "plt.xticks(rotation=90)\n",
    "sns.countplot(train_weather[train_weather['WnvPresent']==1][\"Species\"], palette=\"muted\");"
   ]
  },
  {
   "cell_type": "code",
   "execution_count": null,
   "id": "6a352088",
   "metadata": {
    "ExecuteTime": {
     "end_time": "2022-02-24T07:06:52.023097Z",
     "start_time": "2022-02-24T07:06:51.955970Z"
    },
    "scrolled": false
   },
   "outputs": [],
   "source": [
    "species = pd.DataFrame(train_weather[train_weather['WnvPresent']==1][\"Species\"].value_counts())\n",
    "species.sort_index(inplace=True)\n",
    "\n",
    "fig = plt.figure(figsize=[12, 12])\n",
    "ax = fig.add_subplot(111)\n",
    "\n",
    "colors = sns.color_palette('muted')\n",
    "\n",
    "patches, texts, autotexts = ax.pie(species['Species'], \n",
    "       colors=colors, \n",
    "       labels=list(species.index), \n",
    "       labeldistance=1.1, \n",
    "       autopct='%.0f%%')\n",
    "texts[0].set_fontsize(18)\n",
    "texts[1].set_fontsize(18)\n",
    "texts[2].set_fontsize(18)\n",
    "ax.set_title(\"Mosquito Species Collected that has West Nile Virus (%)\", fontsize=20);"
   ]
  },
  {
   "cell_type": "markdown",
   "id": "8220ff46",
   "metadata": {},
   "source": [
    "We note that only these 3 (out of 7) species of mosquitoes in our dataset had West Nile Virus present:\n",
    "1. Culex Pipiens/Restuans\n",
    "2. Culex Pipiens\n",
    "3. Culex Restuans\n"
   ]
  },
  {
   "cell_type": "code",
   "execution_count": null,
   "id": "a0e20e7f",
   "metadata": {
    "ExecuteTime": {
     "end_time": "2022-02-24T07:06:52.027533Z",
     "start_time": "2022-02-24T07:06:52.024048Z"
    }
   },
   "outputs": [],
   "source": [
    "species_all"
   ]
  },
  {
   "cell_type": "code",
   "execution_count": null,
   "id": "cc0fca52",
   "metadata": {
    "ExecuteTime": {
     "end_time": "2022-02-24T07:06:52.031894Z",
     "start_time": "2022-02-24T07:06:52.028407Z"
    }
   },
   "outputs": [],
   "source": [
    "species_wnv"
   ]
  },
  {
   "cell_type": "code",
   "execution_count": null,
   "id": "af3804ab",
   "metadata": {
    "ExecuteTime": {
     "end_time": "2022-02-24T07:06:52.038771Z",
     "start_time": "2022-02-24T07:06:52.032790Z"
    },
    "scrolled": true
   },
   "outputs": [],
   "source": [
    "species_wnv_perc = species_wnv/species_all.loc[list(species_wnv.index)] * 100\n",
    "species_wnv_perc.columns = [\"Percentage of WNV\"]\n",
    "species_wnv_perc[\"Percentage of WNV\"] = round(species_wnv_perc[\"Percentage of WNV\"],2)\n",
    "species_wnv_perc = species_wnv_perc.sort_values([\"Percentage of WNV\"], ascending=False)\n",
    "species_wnv_perc"
   ]
  },
  {
   "cell_type": "code",
   "execution_count": null,
   "id": "3a6e195c",
   "metadata": {
    "ExecuteTime": {
     "end_time": "2022-02-24T07:06:52.099441Z",
     "start_time": "2022-02-24T07:06:52.039677Z"
    },
    "scrolled": true
   },
   "outputs": [],
   "source": [
    "plt.title(\"Occurence of West Nile Virus within Species (%)\", \n",
    "          fontsize=14);\n",
    "\n",
    "sns.barplot(data=species_wnv_perc, \n",
    "            x='Percentage of WNV', \n",
    "            y=species_wnv_perc.index);"
   ]
  },
  {
   "cell_type": "markdown",
   "id": "fde6bac5",
   "metadata": {},
   "source": [
    "We also note that the species with the: \n",
    "- highest percentage of West Nile Virus present is Culex Pipiens (8.89%)\n",
    "- lowest percentage of West Nile Virus present is Culex Pipiens/Restuans (1.79%)\n",
    "\n",
    "Given this relationship, we want to place a weight that is proportional to the percentage of West Nile Virus present for each species. \n",
    "\n",
    "Based on the percentage of West Nile Virus present, we will round up to the nearest whole number and assign the following weights:\n",
    "\n",
    "| Species                | Percentage of WNV | Assign Weight |\n",
    "|------------------------|------------------:|---------------|\n",
    "| Culex Pipiens/Restuans | 5.51              | 6             |  \n",
    "| Culex Pipiens          | 8.89              | 9             |\n",
    "| Culex Restuans         | 1.79              | 2             | \n",
    "\n"
   ]
  },
  {
   "cell_type": "code",
   "execution_count": null,
   "id": "ec349148",
   "metadata": {
    "ExecuteTime": {
     "end_time": "2022-02-24T07:06:52.104740Z",
     "start_time": "2022-02-24T07:06:52.100613Z"
    }
   },
   "outputs": [],
   "source": [
    "# original species column (before weight assignnment)\n",
    "train_weather['Species'].value_counts()"
   ]
  },
  {
   "cell_type": "code",
   "execution_count": null,
   "id": "67d8809f",
   "metadata": {
    "ExecuteTime": {
     "end_time": "2022-02-24T07:06:52.111674Z",
     "start_time": "2022-02-24T07:06:52.105683Z"
    }
   },
   "outputs": [],
   "source": [
    "# new species column (after weight assignnment)\n",
    "train_weather['Species'] = train_weather['Species'].map({'CULEX PIPIENS/RESTUANS': 6, 'CULEX PIPIENS': 9, 'CULEX RESTUANS': 2}).fillna(0)\n",
    "train_weather['Species'].value_counts()"
   ]
  },
  {
   "cell_type": "markdown",
   "id": "3dd7ce62",
   "metadata": {},
   "source": [
    "## Examining Locations and Spray"
   ]
  },
  {
   "cell_type": "code",
   "execution_count": null,
   "id": "d85463da",
   "metadata": {
    "ExecuteTime": {
     "end_time": "2022-02-24T07:06:53.038404Z",
     "start_time": "2022-02-24T07:06:52.112555Z"
    }
   },
   "outputs": [],
   "source": [
    "# Importing map data\n",
    "map_df = np.loadtxt(\"../assets/mapdata_copyright_openstreetmap_contributors.txt\")"
   ]
  },
  {
   "cell_type": "code",
   "execution_count": null,
   "id": "0cce118c",
   "metadata": {
    "ExecuteTime": {
     "end_time": "2022-02-24T07:06:53.243896Z",
     "start_time": "2022-02-24T07:06:53.039392Z"
    },
    "scrolled": true
   },
   "outputs": [],
   "source": [
    "plt.figure(figsize=(10,10))\n",
    "plt.title('Locations (Original)')\n",
    "plt.imshow(map_df,\n",
    "          cmap=plt.get_cmap('gray'),\n",
    "          extent=(-88, -87.5, 41.6, 42.1),\n",
    "          aspect=map_df.shape[0]*1.0 / map_df.shape[1]);"
   ]
  },
  {
   "cell_type": "code",
   "execution_count": null,
   "id": "ad57642c",
   "metadata": {
    "ExecuteTime": {
     "end_time": "2022-02-24T07:06:53.256469Z",
     "start_time": "2022-02-24T07:06:53.244812Z"
    }
   },
   "outputs": [],
   "source": [
    "no_spray_duplicates = spray.shape[0] - spray[['Longitude', 'Latitude']].drop_duplicates().shape[0]\n",
    "no_spray_out_of_range = spray[spray[\"Longitude\"]<-88].shape[0]\n",
    "\n",
    "print(f\"Dropped {no_spray_duplicates} duplicates \")\n",
    "print(f\"Dropped {no_spray_out_of_range} points that are out of map range\")\n",
    "\n",
    "spray_long_lat = spray[spray[\"Longitude\"]>-88][['Longitude', 'Latitude']].drop_duplicates().values\n",
    "spray_long_lat.shape"
   ]
  },
  {
   "cell_type": "code",
   "execution_count": null,
   "id": "9cc88c46",
   "metadata": {
    "ExecuteTime": {
     "end_time": "2022-02-24T07:06:53.660476Z",
     "start_time": "2022-02-24T07:06:53.257354Z"
    },
    "scrolled": true
   },
   "outputs": [],
   "source": [
    "plt.figure(figsize=(20,20))\n",
    "plt.title('Spray Locations')\n",
    "\n",
    "plt.imshow(map_df,\n",
    "          cmap=plt.get_cmap('gray'),\n",
    "          extent=(-88, -87.5, 41.6, 42.1),\n",
    "          aspect=map_df.shape[0]*1.0 / map_df.shape[1])\n",
    "\n",
    "plt.scatter(spray_long_lat[:,0], spray_long_lat[:,1], s=100, c='yellow', alpha=0.1);"
   ]
  },
  {
   "cell_type": "code",
   "execution_count": null,
   "id": "70a1aa22",
   "metadata": {
    "ExecuteTime": {
     "end_time": "2022-02-24T07:06:53.668545Z",
     "start_time": "2022-02-24T07:06:53.661531Z"
    }
   },
   "outputs": [],
   "source": [
    "# creating a trap dataframe for plotting \n",
    "trap_df = train[['Trap','Longitude','Latitude']].drop_duplicates(\"Trap\")\n",
    "print(trap_df.shape)\n",
    "trap_df.head(3)"
   ]
  },
  {
   "cell_type": "code",
   "execution_count": null,
   "id": "791700f0",
   "metadata": {
    "ExecuteTime": {
     "end_time": "2022-02-24T07:06:54.112058Z",
     "start_time": "2022-02-24T07:06:53.669393Z"
    },
    "scrolled": true
   },
   "outputs": [],
   "source": [
    "plt.figure(figsize=(20,20))\n",
    "plt.title('Spray and Traps Locations')\n",
    "\n",
    "plt.imshow(map_df,\n",
    "          cmap=plt.get_cmap('gray'),\n",
    "          extent=(-88, -87.5, 41.6, 42.1),\n",
    "          aspect=map_df.shape[0]*1.0 / map_df.shape[1])\n",
    "\n",
    "plt.scatter(spray_long_lat[:,0], \n",
    "            spray_long_lat[:,1], \n",
    "            s=10, c='yellow', alpha=0.3, label='Spray')\n",
    "\n",
    "plt.scatter(trap_df.values[:,1], \n",
    "            trap_df.values[:,2], \n",
    "            s=100,marker='x', c='maroon', alpha=1, label='Trap')\n",
    "\n",
    "plt.legend(loc=\"upper right\");"
   ]
  },
  {
   "cell_type": "code",
   "execution_count": null,
   "id": "bf2a6926",
   "metadata": {
    "ExecuteTime": {
     "end_time": "2022-02-24T07:06:54.120289Z",
     "start_time": "2022-02-24T07:06:54.113106Z"
    }
   },
   "outputs": [],
   "source": [
    "# creating a trap and wnv present dataframe for plotting \n",
    "wnv_trap_df =  train[train[\"WnvPresent\"]==1][['Trap','Longitude','Latitude']].drop_duplicates(\"Trap\")\n",
    "\n",
    "print(wnv_trap_df.shape)\n",
    "wnv_trap_df.head(3)"
   ]
  },
  {
   "cell_type": "code",
   "execution_count": null,
   "id": "a5ef099a",
   "metadata": {
    "ExecuteTime": {
     "end_time": "2022-02-24T07:06:54.568272Z",
     "start_time": "2022-02-24T07:06:54.121168Z"
    },
    "scrolled": false
   },
   "outputs": [],
   "source": [
    "plt.figure(figsize=(20,20))\n",
    "plt.title('Sprays and Traps Locations with WNV')\n",
    "\n",
    "plt.imshow(map_df,\n",
    "          cmap=plt.get_cmap('gray'),\n",
    "          extent=(-88, -87.5, 41.6, 42.1),\n",
    "          aspect=map_df.shape[0]*1.0 / map_df.shape[1])\n",
    "\n",
    "plt.scatter(spray_long_lat[:,0], \n",
    "            spray_long_lat[:,1], \n",
    "            s=10, c='yellow', alpha=0.3, label='Spray')\n",
    "\n",
    "plt.scatter(trap_df.values[:,1], \n",
    "            trap_df.values[:,2], \n",
    "            s=100, marker='x', c='maroon', alpha=1, label='Trap')\n",
    "\n",
    "plt.scatter(wnv_trap_df.values[:,1], \n",
    "            wnv_trap_df.values[:,2], \n",
    "            marker='o', c='yellow',edgecolor='orangered',linewidth=3, alpha=1, label='WnvPresent')\n",
    "\n",
    "plt.legend(loc=\"upper right\");"
   ]
  },
  {
   "cell_type": "markdown",
   "id": "c5aebc82",
   "metadata": {
    "ExecuteTime": {
     "end_time": "2022-02-18T10:04:21.339637Z",
     "start_time": "2022-02-18T10:04:21.305913Z"
    }
   },
   "source": [
    "From the plot, we can see that most (more than half) of the locations with WNV present were <ins>not sprayed</ins>."
   ]
  },
  {
   "cell_type": "markdown",
   "id": "657be7a2",
   "metadata": {},
   "source": [
    "# Investigating Top<font size=\"4\">$^{\\text{*}}$</font> Traps\n",
    "\n",
    "\n",
    "<font size=\"2\">**Taking 90th percentile as top*</font>"
   ]
  },
  {
   "cell_type": "code",
   "execution_count": null,
   "id": "974a163f",
   "metadata": {
    "ExecuteTime": {
     "end_time": "2022-02-24T07:06:54.574227Z",
     "start_time": "2022-02-24T07:06:54.569187Z"
    },
    "scrolled": true
   },
   "outputs": [],
   "source": [
    "# Top traps with the most WNV present\n",
    "top_wnv_traps = pd.DataFrame(\n",
    "    train[\"Trap\"][train[\"WnvPresent\"] == 1].value_counts()\n",
    ")\n",
    "\n",
    "top_wnv_traps.columns = ['Wnv_count']\n",
    "top_wnv_traps.head(3)"
   ]
  },
  {
   "cell_type": "code",
   "execution_count": null,
   "id": "cb19b75a",
   "metadata": {
    "ExecuteTime": {
     "end_time": "2022-02-24T07:06:54.577865Z",
     "start_time": "2022-02-24T07:06:54.575120Z"
    },
    "scrolled": true
   },
   "outputs": [],
   "source": [
    "print(\"No. of Wnv_count at the 90th percentile:\")\n",
    "top_wnv_traps[\"Wnv_count\"].quantile(0.9)"
   ]
  },
  {
   "cell_type": "code",
   "execution_count": null,
   "id": "b34087c5",
   "metadata": {
    "ExecuteTime": {
     "end_time": "2022-02-24T07:06:54.582834Z",
     "start_time": "2022-02-24T07:06:54.578655Z"
    },
    "scrolled": true
   },
   "outputs": [],
   "source": [
    "# 90th percentile\n",
    "print(\"Traps with the Highest no. of WNV Present (90th Percentile):\")\n",
    "top_wnv_traps = top_wnv_traps[:top_wnv_traps[top_wnv_traps[\"Wnv_count\"]>=10].shape[0]]\n",
    "top_wnv_traps"
   ]
  },
  {
   "cell_type": "code",
   "execution_count": null,
   "id": "3a56b31f",
   "metadata": {
    "ExecuteTime": {
     "end_time": "2022-02-24T07:06:54.595933Z",
     "start_time": "2022-02-24T07:06:54.584213Z"
    }
   },
   "outputs": [],
   "source": [
    "print(\"Addresses of Traps with the Highest no. of WNV Present (90th Percentile):\\n\")\n",
    "\n",
    "for trap in top_wnv_traps.index:\n",
    "    print(trap+\" : \"+train[\"Address\"][train[\"Trap\"] == trap].unique()[0])"
   ]
  },
  {
   "cell_type": "code",
   "execution_count": null,
   "id": "2d5cab3e",
   "metadata": {
    "ExecuteTime": {
     "end_time": "2022-02-24T07:06:54.603055Z",
     "start_time": "2022-02-24T07:06:54.596740Z"
    },
    "scrolled": true
   },
   "outputs": [],
   "source": [
    "print(\"Traps (with geoographic coordinates) with the highest no. of WNV Present: \\n\")\n",
    "wnv_trap_df.set_index(\"Trap\", drop=True, inplace=True)\n",
    "\n",
    "top_wnv_traps = top_wnv_traps.join(wnv_trap_df, how='inner')\n",
    "top_wnv_traps"
   ]
  },
  {
   "cell_type": "code",
   "execution_count": null,
   "id": "27bbc8ba",
   "metadata": {
    "ExecuteTime": {
     "end_time": "2022-02-24T07:06:54.993052Z",
     "start_time": "2022-02-24T07:06:54.603973Z"
    },
    "scrolled": false
   },
   "outputs": [],
   "source": [
    "top_wnv_traps_long_lat = top_wnv_traps.drop(\"Wnv_count\", axis=1).values\n",
    "\n",
    "plt.figure(figsize=(20,20))\n",
    "plt.title('Traps with the Highest no. of WNV Present & Spray Locations')\n",
    "\n",
    "plt.imshow(map_df,\n",
    "          cmap=plt.get_cmap('gray'),\n",
    "          extent=(-88, -87.5, 41.6, 42.1),\n",
    "          aspect=map_df.shape[0]*1.0 / map_df.shape[1])\n",
    "\n",
    "plt.scatter(spray_long_lat[:,0], spray_long_lat[:,1], s=10, c='yellow', alpha=1, label='Spray')\n",
    "\n",
    "plt.scatter(top_wnv_traps_long_lat[:,0], \n",
    "            top_wnv_traps_long_lat[:,1],\n",
    "            edgecolor='b',linewidth=3, \n",
    "            marker='*', s=200, c='cyan', alpha=1, label='Top Trap')\n",
    "\n",
    "plt.legend(loc=\"upper right\");"
   ]
  },
  {
   "cell_type": "markdown",
   "id": "789a4261",
   "metadata": {},
   "source": [
    "From the plot, we can see that only 2 out of 8 of the traps with WNV present were covered by the spay locations. Which means ~75% of the top<font size=\"2\">*</font> traps with WNV present were <ins>not sprayed</ins>.\n",
    "\n",
    "Given that there are several traps with higher number of West Nile Virus present, we will dummify the `Trap` column, but we will keep only the top traps."
   ]
  },
  {
   "cell_type": "code",
   "execution_count": null,
   "id": "3ef1aa34",
   "metadata": {
    "ExecuteTime": {
     "end_time": "2022-02-24T07:06:54.999377Z",
     "start_time": "2022-02-24T07:06:54.994038Z"
    }
   },
   "outputs": [],
   "source": [
    "trap_dummy = pd.get_dummies(train_weather['Trap'], columns=['Trap'])\n",
    "print(f\"Dummify all Traps {trap_dummy.shape}\")\n",
    "trap_dummy = trap_dummy[list(top_wnv_traps.index)]\n",
    "print(f\"Dummify top Traps {trap_dummy.shape}\")\n"
   ]
  },
  {
   "cell_type": "code",
   "execution_count": null,
   "id": "ef6fcb95",
   "metadata": {
    "ExecuteTime": {
     "end_time": "2022-02-24T07:06:55.004495Z",
     "start_time": "2022-02-24T07:06:55.000272Z"
    }
   },
   "outputs": [],
   "source": [
    "train_weather = pd.concat([train_weather,trap_dummy], axis=1)\n",
    "train_weather.shape"
   ]
  },
  {
   "cell_type": "code",
   "execution_count": null,
   "id": "0a9d7e8a",
   "metadata": {
    "ExecuteTime": {
     "end_time": "2022-02-24T07:06:55.009584Z",
     "start_time": "2022-02-24T07:06:55.005383Z"
    },
    "scrolled": true
   },
   "outputs": [],
   "source": [
    "# dropping the remaining non-numerical columns as there are not muuch insights we can derive from these features,\n",
    "train_weather.drop(['Date','Address','Street','AddressNumberAndStreet'], axis=1, inplace=True)\n",
    "train_weather.shape"
   ]
  },
  {
   "cell_type": "markdown",
   "id": "52b69767",
   "metadata": {},
   "source": [
    "Preparing our `test` set:"
   ]
  },
  {
   "cell_type": "code",
   "execution_count": null,
   "id": "5b90c4a7",
   "metadata": {
    "ExecuteTime": {
     "end_time": "2022-02-24T07:06:55.127633Z",
     "start_time": "2022-02-24T07:06:55.010522Z"
    }
   },
   "outputs": [],
   "source": [
    "print(f\"Original test shape: {test.shape}\")\n",
    "\n",
    "# merging weather dataset\n",
    "test_weather = pd.merge(test, weather, on=['Date', 'Year', 'Week', 'Month', 'DayOfWeek'])\n",
    "\n",
    "# new species column (after weight assignnment)\n",
    "test_weather['Species'] = test_weather['Species'].map({'CULEX PIPIENS/RESTUANS': 6, 'CULEX PIPIENS': 9, 'CULEX RESTUANS': 2}).fillna(0)\n",
    "\n",
    "# dummifying traps\n",
    "trap_dummy = pd.get_dummies(test_weather['Trap'], columns=['Trap'])\n",
    "trap_dummy = trap_dummy[list(top_wnv_traps.index)]\n",
    "test_weather = pd.concat([test_weather,trap_dummy], axis=1)\n",
    "\n",
    "# dropping the remaining non-numerical columns as there are not muuch insights we can derive from these features,\n",
    "test_weather.drop(['Date','Address','Street','AddressNumberAndStreet'], axis=1, inplace=True)\n",
    "\n",
    "print(f\"Final test shape: {test_weather.shape}\")"
   ]
  },
  {
   "cell_type": "code",
   "execution_count": null,
   "id": "8d713fe3",
   "metadata": {
    "ExecuteTime": {
     "end_time": "2022-02-24T07:06:56.709077Z",
     "start_time": "2022-02-24T07:06:55.128692Z"
    }
   },
   "outputs": [],
   "source": [
    "#Export for modelling in the next notebook\n",
    "train_weather.to_csv('../assets/train_final.csv', index=False)\n",
    "print(train_weather.shape)\n",
    "test_weather.to_csv('../assets/test_final.csv', index=False)\n",
    "print(test_weather.shape)"
   ]
  }
 ],
 "metadata": {
  "kernelspec": {
   "display_name": "Python 3 (ipykernel)",
   "language": "python",
   "name": "python3"
  },
  "language_info": {
   "codemirror_mode": {
    "name": "ipython",
    "version": 3
   },
   "file_extension": ".py",
   "mimetype": "text/x-python",
   "name": "python",
   "nbconvert_exporter": "python",
   "pygments_lexer": "ipython3",
   "version": "3.8.12"
  },
  "toc": {
   "base_numbering": 1,
   "nav_menu": {},
   "number_sections": false,
   "sideBar": true,
   "skip_h1_title": false,
   "title_cell": "Table of Contents",
   "title_sidebar": "Contents",
   "toc_cell": false,
   "toc_position": {},
   "toc_section_display": true,
   "toc_window_display": false
  }
 },
 "nbformat": 4,
 "nbformat_minor": 5
}
