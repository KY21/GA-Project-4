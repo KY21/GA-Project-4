{
 "cells": [
  {
   "cell_type": "markdown",
   "id": "f70753b5",
   "metadata": {},
   "source": [
    "*Contributed by: Darien*"
   ]
  },
  {
   "cell_type": "markdown",
   "id": "7da5dc86",
   "metadata": {},
   "source": [
    "## Model Selection"
   ]
  },
  {
   "cell_type": "code",
   "execution_count": 1,
   "id": "09a2b092",
   "metadata": {},
   "outputs": [],
   "source": [
    "#pip install -U imbalanced-learn"
   ]
  },
  {
   "cell_type": "code",
   "execution_count": 2,
   "id": "17d6764f",
   "metadata": {},
   "outputs": [],
   "source": [
    "#conda install -c conda-forge imbalanced-learn"
   ]
  },
  {
   "cell_type": "code",
   "execution_count": 3,
   "id": "ee28594e",
   "metadata": {},
   "outputs": [],
   "source": [
    "#!pip install imblearn"
   ]
  },
  {
   "cell_type": "code",
   "execution_count": 4,
   "id": "f2ada57e",
   "metadata": {},
   "outputs": [],
   "source": [
    "# Import libraries\n",
    "import pandas as pd\n",
    "import numpy as np\n",
    "import matplotlib.pyplot as plt\n",
    "import seaborn as sns\n",
    "import pickle\n",
    "\n",
    "from sklearn.preprocessing import StandardScaler\n",
    "from sklearn.model_selection import cross_val_score, train_test_split, GridSearchCV\n",
    "from sklearn.linear_model import LogisticRegression\n",
    "from sklearn.metrics import confusion_matrix, classification_report, plot_roc_curve, roc_auc_score\n",
    "from sklearn.neighbors import KNeighborsClassifier\n",
    "from sklearn.tree import DecisionTreeClassifier\n",
    "from sklearn.svm import SVC\n",
    "from sklearn.ensemble import RandomForestClassifier, ExtraTreesClassifier, AdaBoostClassifier, GradientBoostingClassifier\n",
    "from imblearn.over_sampling import SMOTE\n",
    "\n",
    "pd.set_option('display.max_rows', 500)"
   ]
  },
  {
   "cell_type": "code",
   "execution_count": 5,
   "id": "7151b8a2",
   "metadata": {},
   "outputs": [],
   "source": [
    "train = pd.read_csv('../assets/train_final.csv')\n",
    "test = pd.read_csv('../assets/test_final.csv')"
   ]
  },
  {
   "cell_type": "code",
   "execution_count": 6,
   "id": "5de30eec",
   "metadata": {},
   "outputs": [],
   "source": [
    "# Define X and y for model.\n",
    "X = train.drop(columns = ['WnvPresent','NumMosquitos'])._get_numeric_data()  #to make the test and train set have the same features; to use numerical data only,if the score is low, will consider to use one-hot encoding\n",
    "y = train['WnvPresent']"
   ]
  },
  {
   "cell_type": "code",
   "execution_count": 7,
   "id": "0b7df942",
   "metadata": {},
   "outputs": [],
   "source": [
    "#perform train-test split\n",
    "X_train, X_test, y_train, y_test = train_test_split(X, y, test_size=0.3, stratify=y, random_state=42)"
   ]
  },
  {
   "cell_type": "code",
   "execution_count": 8,
   "id": "39f5b4f7-572e-42da-862d-09eee258f581",
   "metadata": {},
   "outputs": [],
   "source": [
    "ss = StandardScaler()\n",
    "ss.fit(X_train)\n",
    "\n",
    "X_train_ss = ss.transform(X_train)\n",
    "X_test_ss = ss.transform(X_test)"
   ]
  },
  {
   "cell_type": "markdown",
   "id": "07283beb",
   "metadata": {},
   "source": [
    "### Baseline Model"
   ]
  },
  {
   "cell_type": "markdown",
   "id": "cc7fb013",
   "metadata": {},
   "source": [
    "Without any modelling and picking at random, the chance of us correctly positively predicting WNV is around 5.2%.This is an unbalanced dataset and will greatly bias our model."
   ]
  },
  {
   "cell_type": "code",
   "execution_count": 9,
   "id": "2c06d1cf",
   "metadata": {},
   "outputs": [
    {
     "data": {
      "text/plain": [
       "0    0.947554\n",
       "1    0.052446\n",
       "Name: WnvPresent, dtype: float64"
      ]
     },
     "execution_count": 9,
     "metadata": {},
     "output_type": "execute_result"
    }
   ],
   "source": [
    "# Baseline\n",
    "y = train['WnvPresent']\n",
    "y.value_counts(normalize=True)"
   ]
  },
  {
   "cell_type": "markdown",
   "id": "ac1d5ca1",
   "metadata": {},
   "source": [
    "Given that the train dataset is imbalanced with only 5% of cases with positive WNV, the use of accuracy as a metric for our model evaluation would be flawed.\n",
    "- This is because our model would learn to disregard positive-WNV cases, and solely pick up negative-WNV cases (95% of accuracy in this case).\n",
    "- Additional methods such as under-sampling or oversampling should be done to balance this dataset.\n",
    "- SMOTE is an oversampling technique where the synthetic samples are generated for the minority class. This algorithm helps to overcome the overfitting problem posed by random oversampling. It focuses on the feature space to generate new instances with the help of interpolation between the positive instances that lie together."
   ]
  },
  {
   "cell_type": "markdown",
   "id": "82c68702",
   "metadata": {},
   "source": [
    "## Model Testing"
   ]
  },
  {
   "cell_type": "markdown",
   "id": "1c3ca0f7-0ea0-4187-97de-c94bda7693fb",
   "metadata": {},
   "source": [
    "- I will run a list of models with SMOTE and select the model base on ROC_AUC score.\n",
    "- The area under the ROC curve (AUC) can be interpreted as the probability that the classification model correctly ranks a random positive example higher than a random negative example. So an AUC which is close to 1 is quite often considered to be a confirmation of the model being good."
   ]
  },
  {
   "cell_type": "markdown",
   "id": "fd8df675-0d88-459e-9718-6f0a644f227a",
   "metadata": {},
   "source": [
    "### Logistic Regression (with SMOTE)"
   ]
  },
  {
   "cell_type": "code",
   "execution_count": 10,
   "id": "40b5d742-d051-4139-879e-2cbd68c4300f",
   "metadata": {},
   "outputs": [],
   "source": [
    "# Applying SMOTE to our datasets\n",
    "smt = SMOTE(random_state=42)\n",
    "X_train_smt, y_train_smt = smt.fit_resample(X_train, y_train)\n",
    "# Performing Standard Scaling on our dataset \n",
    "X_train_smt_ss = ss.fit_transform(X_train_smt)"
   ]
  },
  {
   "cell_type": "code",
   "execution_count": 11,
   "id": "4200142a-063f-449a-a87e-538497babdfc",
   "metadata": {},
   "outputs": [
    {
     "data": {
      "text/plain": [
       "LogisticRegression(C=10, max_iter=10000, random_state=42)"
      ]
     },
     "execution_count": 11,
     "metadata": {},
     "output_type": "execute_result"
    }
   ],
   "source": [
    "# Fitting to LogReg\n",
    "lr = LogisticRegression(C=10, max_iter=10000, random_state=42)\n",
    "lr.fit(X_train_smt_ss, y_train_smt)"
   ]
  },
  {
   "cell_type": "code",
   "execution_count": 12,
   "id": "f14d8519-475f-4b96-b552-00766f9ecd89",
   "metadata": {},
   "outputs": [
    {
     "name": "stdout",
     "output_type": "stream",
     "text": [
      "----------Logistic Regression----------\n",
      "X_train score: 0.7583955223880597\n",
      "X_test score: 0.5053934010152284\n",
      "Cross_val training score: 0.7579655620824871\n"
     ]
    }
   ],
   "source": [
    "# Obtaining the train / test and cross validation score\n",
    "print(\"----------Logistic Regression----------\")\n",
    "print(f\"X_train score: {lr.score(X_train_smt_ss, y_train_smt)}\")   # Training set\n",
    "print(f\"X_test score: {lr.score(X_test_ss, y_test)}\")   # Test set\n",
    "print(f\"Cross_val training score: {cross_val_score(lr, X_train_smt_ss, y_train_smt, cv=3, n_jobs=-1).mean()}\")"
   ]
  },
  {
   "cell_type": "code",
   "execution_count": 13,
   "id": "84b12c64-c86d-489b-9cb2-e51c759af2c3",
   "metadata": {},
   "outputs": [
    {
     "data": {
      "text/html": [
       "<div>\n",
       "<style scoped>\n",
       "    .dataframe tbody tr th:only-of-type {\n",
       "        vertical-align: middle;\n",
       "    }\n",
       "\n",
       "    .dataframe tbody tr th {\n",
       "        vertical-align: top;\n",
       "    }\n",
       "\n",
       "    .dataframe thead th {\n",
       "        text-align: right;\n",
       "    }\n",
       "</style>\n",
       "<table border=\"1\" class=\"dataframe\">\n",
       "  <thead>\n",
       "    <tr style=\"text-align: right;\">\n",
       "      <th></th>\n",
       "      <th>pred neg_WNV</th>\n",
       "      <th>pred pos_WNV</th>\n",
       "    </tr>\n",
       "  </thead>\n",
       "  <tbody>\n",
       "    <tr>\n",
       "      <th>actual neg_WNV</th>\n",
       "      <td>1449</td>\n",
       "      <td>1538</td>\n",
       "    </tr>\n",
       "    <tr>\n",
       "      <th>actual pos_WNV</th>\n",
       "      <td>21</td>\n",
       "      <td>144</td>\n",
       "    </tr>\n",
       "  </tbody>\n",
       "</table>\n",
       "</div>"
      ],
      "text/plain": [
       "                pred neg_WNV  pred pos_WNV\n",
       "actual neg_WNV          1449          1538\n",
       "actual pos_WNV            21           144"
      ]
     },
     "execution_count": 13,
     "metadata": {},
     "output_type": "execute_result"
    }
   ],
   "source": [
    "# Generating the confusion matrix\n",
    "cm = confusion_matrix(y_test, lr.predict(X_test_ss))\n",
    "tn, fp, fn ,tp = cm.ravel()\n",
    "pd.DataFrame(cm, columns = [\"pred neg_WNV\", \"pred pos_WNV\"], index=[\"actual neg_WNV\", \"actual pos_WNV\"])"
   ]
  },
  {
   "cell_type": "code",
   "execution_count": 14,
   "id": "92b86a66-d450-440b-97bd-3602d1f17034",
   "metadata": {},
   "outputs": [
    {
     "data": {
      "text/html": [
       "<div>\n",
       "<style scoped>\n",
       "    .dataframe tbody tr th:only-of-type {\n",
       "        vertical-align: middle;\n",
       "    }\n",
       "\n",
       "    .dataframe tbody tr th {\n",
       "        vertical-align: top;\n",
       "    }\n",
       "\n",
       "    .dataframe thead th {\n",
       "        text-align: right;\n",
       "    }\n",
       "</style>\n",
       "<table border=\"1\" class=\"dataframe\">\n",
       "  <thead>\n",
       "    <tr style=\"text-align: right;\">\n",
       "      <th></th>\n",
       "      <th>precision</th>\n",
       "      <th>recall</th>\n",
       "      <th>f1-score</th>\n",
       "      <th>support</th>\n",
       "    </tr>\n",
       "  </thead>\n",
       "  <tbody>\n",
       "    <tr>\n",
       "      <th>pred neg_WNV</th>\n",
       "      <td>0.985714</td>\n",
       "      <td>0.485102</td>\n",
       "      <td>0.650213</td>\n",
       "      <td>2987.000000</td>\n",
       "    </tr>\n",
       "    <tr>\n",
       "      <th>pred pos_WNV</th>\n",
       "      <td>0.085612</td>\n",
       "      <td>0.872727</td>\n",
       "      <td>0.155929</td>\n",
       "      <td>165.000000</td>\n",
       "    </tr>\n",
       "    <tr>\n",
       "      <th>accuracy</th>\n",
       "      <td>0.505393</td>\n",
       "      <td>0.505393</td>\n",
       "      <td>0.505393</td>\n",
       "      <td>0.505393</td>\n",
       "    </tr>\n",
       "  </tbody>\n",
       "</table>\n",
       "</div>"
      ],
      "text/plain": [
       "              precision    recall  f1-score      support\n",
       "pred neg_WNV   0.985714  0.485102  0.650213  2987.000000\n",
       "pred pos_WNV   0.085612  0.872727  0.155929   165.000000\n",
       "accuracy       0.505393  0.505393  0.505393     0.505393"
      ]
     },
     "execution_count": 14,
     "metadata": {},
     "output_type": "execute_result"
    }
   ],
   "source": [
    "# Generating the classification report\n",
    "report = classification_report(y_test, \n",
    "                               lr.predict(X_test_ss),\n",
    "                               target_names=[\"pred neg_WNV\", \"pred pos_WNV\"], \n",
    "                               output_dict=True)\n",
    "\n",
    "pd.DataFrame(report).drop([\"macro avg\", \"weighted avg\"], axis=1).T"
   ]
  },
  {
   "cell_type": "code",
   "execution_count": 15,
   "id": "576e9fc1-387c-4f83-95ed-64a3ce1b3714",
   "metadata": {},
   "outputs": [
    {
     "name": "stdout",
     "output_type": "stream",
     "text": [
      "-----Logistic Regression-----\n"
     ]
    },
    {
     "data": {
      "text/plain": [
       "0.7620050521958792"
      ]
     },
     "execution_count": 15,
     "metadata": {},
     "output_type": "execute_result"
    }
   ],
   "source": [
    "#compute roc_auc_score\n",
    "roc_score = roc_auc_score(y_test, lr.predict_proba(X_test_ss)[:,1])    #Using [:,1] will give you the probability of getting the output as 1.\n",
    "print('-----Logistic Regression-----')\n",
    "roc_score"
   ]
  },
  {
   "cell_type": "markdown",
   "id": "dae736d7-a04b-410e-a4e1-527cbe866797",
   "metadata": {},
   "source": [
    "### K-Nearest Neighbors"
   ]
  },
  {
   "cell_type": "code",
   "execution_count": 16,
   "id": "9cfebe79-a561-4f5c-a62a-dd418b57ad5a",
   "metadata": {},
   "outputs": [],
   "source": [
    "# Performing Standard Scaling on our dataset\n",
    "X_train_smt_ss = ss.fit_transform(X_train_smt)"
   ]
  },
  {
   "cell_type": "code",
   "execution_count": 17,
   "id": "ca2e5455-de0b-4c8e-b074-7a704abb0b3e",
   "metadata": {},
   "outputs": [
    {
     "data": {
      "text/plain": [
       "KNeighborsClassifier()"
      ]
     },
     "execution_count": 17,
     "metadata": {},
     "output_type": "execute_result"
    }
   ],
   "source": [
    "#initialize and fit to the our dataset\n",
    "knn = KNeighborsClassifier()\n",
    "knn.fit(X_train_smt_ss, y_train_smt)"
   ]
  },
  {
   "cell_type": "code",
   "execution_count": 18,
   "id": "c1219bdc-ffe3-40cc-918e-917e353204c3",
   "metadata": {},
   "outputs": [
    {
     "name": "stdout",
     "output_type": "stream",
     "text": [
      "----------K-Nearest Neighbors----------\n",
      "X_train score: 0.9466848450057406\n",
      "X_test score: 0.8239213197969543\n",
      "Cross_val training score: 0.904923155768565\n"
     ]
    }
   ],
   "source": [
    "# Obtaining the train / test and cross validation score\n",
    "print(\"----------K-Nearest Neighbors----------\")\n",
    "print(f\"X_train score: {knn.score(X_train_smt_ss, y_train_smt)}\")   # Training set\n",
    "print(f\"X_test score: {knn.score(X_test_ss, y_test)}\")   # Test set\n",
    "print(f\"Cross_val training score: {cross_val_score(knn, X_train_smt_ss, y_train_smt, cv=3, n_jobs=-1).mean()}\")\n"
   ]
  },
  {
   "cell_type": "code",
   "execution_count": 19,
   "id": "08eab477-7cf8-4642-8520-e2e529df6f13",
   "metadata": {},
   "outputs": [
    {
     "data": {
      "text/html": [
       "<div>\n",
       "<style scoped>\n",
       "    .dataframe tbody tr th:only-of-type {\n",
       "        vertical-align: middle;\n",
       "    }\n",
       "\n",
       "    .dataframe tbody tr th {\n",
       "        vertical-align: top;\n",
       "    }\n",
       "\n",
       "    .dataframe thead th {\n",
       "        text-align: right;\n",
       "    }\n",
       "</style>\n",
       "<table border=\"1\" class=\"dataframe\">\n",
       "  <thead>\n",
       "    <tr style=\"text-align: right;\">\n",
       "      <th></th>\n",
       "      <th>pred neg_WNV</th>\n",
       "      <th>pred pos_WNV</th>\n",
       "    </tr>\n",
       "  </thead>\n",
       "  <tbody>\n",
       "    <tr>\n",
       "      <th>actual neg_WNV</th>\n",
       "      <td>2514</td>\n",
       "      <td>473</td>\n",
       "    </tr>\n",
       "    <tr>\n",
       "      <th>actual pos_WNV</th>\n",
       "      <td>82</td>\n",
       "      <td>83</td>\n",
       "    </tr>\n",
       "  </tbody>\n",
       "</table>\n",
       "</div>"
      ],
      "text/plain": [
       "                pred neg_WNV  pred pos_WNV\n",
       "actual neg_WNV          2514           473\n",
       "actual pos_WNV            82            83"
      ]
     },
     "execution_count": 19,
     "metadata": {},
     "output_type": "execute_result"
    }
   ],
   "source": [
    "# Generating the confusion matrix\n",
    "cm = confusion_matrix(y_test, knn.predict(X_test_ss))\n",
    "tn, fp, fn ,tp = cm.ravel()\n",
    "pd.DataFrame(cm, columns = [\"pred neg_WNV\", \"pred pos_WNV\"], index=[\"actual neg_WNV\", \"actual pos_WNV\"])"
   ]
  },
  {
   "cell_type": "code",
   "execution_count": 20,
   "id": "6b5f32ee-5ec2-4ff2-8979-354764760a09",
   "metadata": {},
   "outputs": [
    {
     "data": {
      "text/html": [
       "<div>\n",
       "<style scoped>\n",
       "    .dataframe tbody tr th:only-of-type {\n",
       "        vertical-align: middle;\n",
       "    }\n",
       "\n",
       "    .dataframe tbody tr th {\n",
       "        vertical-align: top;\n",
       "    }\n",
       "\n",
       "    .dataframe thead th {\n",
       "        text-align: right;\n",
       "    }\n",
       "</style>\n",
       "<table border=\"1\" class=\"dataframe\">\n",
       "  <thead>\n",
       "    <tr style=\"text-align: right;\">\n",
       "      <th></th>\n",
       "      <th>precision</th>\n",
       "      <th>recall</th>\n",
       "      <th>f1-score</th>\n",
       "      <th>support</th>\n",
       "    </tr>\n",
       "  </thead>\n",
       "  <tbody>\n",
       "    <tr>\n",
       "      <th>pred neg_WNV</th>\n",
       "      <td>0.968413</td>\n",
       "      <td>0.841647</td>\n",
       "      <td>0.900591</td>\n",
       "      <td>2987.000000</td>\n",
       "    </tr>\n",
       "    <tr>\n",
       "      <th>pred pos_WNV</th>\n",
       "      <td>0.149281</td>\n",
       "      <td>0.503030</td>\n",
       "      <td>0.230236</td>\n",
       "      <td>165.000000</td>\n",
       "    </tr>\n",
       "    <tr>\n",
       "      <th>accuracy</th>\n",
       "      <td>0.823921</td>\n",
       "      <td>0.823921</td>\n",
       "      <td>0.823921</td>\n",
       "      <td>0.823921</td>\n",
       "    </tr>\n",
       "  </tbody>\n",
       "</table>\n",
       "</div>"
      ],
      "text/plain": [
       "              precision    recall  f1-score      support\n",
       "pred neg_WNV   0.968413  0.841647  0.900591  2987.000000\n",
       "pred pos_WNV   0.149281  0.503030  0.230236   165.000000\n",
       "accuracy       0.823921  0.823921  0.823921     0.823921"
      ]
     },
     "execution_count": 20,
     "metadata": {},
     "output_type": "execute_result"
    }
   ],
   "source": [
    "# Generating the classification report\n",
    "report = classification_report(y_test, \n",
    "                               knn.predict(X_test_ss),\n",
    "                               target_names=[\"pred neg_WNV\", \"pred pos_WNV\"], \n",
    "                               output_dict=True)\n",
    "\n",
    "pd.DataFrame(report).drop([\"macro avg\", \"weighted avg\"], axis=1).T"
   ]
  },
  {
   "cell_type": "code",
   "execution_count": 21,
   "id": "b3197e20-28e7-4894-a241-d188aed0112b",
   "metadata": {},
   "outputs": [
    {
     "name": "stdout",
     "output_type": "stream",
     "text": [
      "-----K-Nearest Neighbors-----\n"
     ]
    },
    {
     "data": {
      "text/plain": [
       "0.7400046666869565"
      ]
     },
     "execution_count": 21,
     "metadata": {},
     "output_type": "execute_result"
    }
   ],
   "source": [
    "#compute roc_auc_score\n",
    "roc_score = roc_auc_score(y_test, knn.predict_proba(X_test_ss)[:,1])\n",
    "print(\"-----K-Nearest Neighbors-----\")\n",
    "roc_score"
   ]
  },
  {
   "cell_type": "markdown",
   "id": "cb1cdbeb-6ee0-4e1c-81bd-e796085abb86",
   "metadata": {},
   "source": [
    "### Decision Tree Classifier"
   ]
  },
  {
   "cell_type": "code",
   "execution_count": 22,
   "id": "022a69c3-ff80-40cc-8c7a-90346cef8694",
   "metadata": {},
   "outputs": [
    {
     "data": {
      "text/plain": [
       "DecisionTreeClassifier()"
      ]
     },
     "execution_count": 22,
     "metadata": {},
     "output_type": "execute_result"
    }
   ],
   "source": [
    "#initialize and fit to the our dataset\n",
    "dt = DecisionTreeClassifier()\n",
    "dt.fit(X_train_smt_ss, y_train_smt)"
   ]
  },
  {
   "cell_type": "code",
   "execution_count": 23,
   "id": "59e2076c-ec1e-4ed7-9d74-924cb0ce5a08",
   "metadata": {},
   "outputs": [
    {
     "name": "stdout",
     "output_type": "stream",
     "text": [
      "----------Decision Tree Classifier----------\n",
      "X_train score: 0.9867250287026407\n",
      "X_test score: 0.4073604060913706\n",
      "Cross_val training score: 0.9326217551787472\n"
     ]
    }
   ],
   "source": [
    "# Obtaining the train / test and cross validation score\n",
    "print(\"----------Decision Tree Classifier----------\")\n",
    "print(f\"X_train score: {dt.score(X_train_smt_ss, y_train_smt)}\")   # Training set\n",
    "print(f\"X_test score: {dt.score(X_test_ss, y_test)}\")   # Test set\n",
    "print(f\"Cross_val training score: {cross_val_score(dt, X_train_smt_ss, y_train_smt, cv=3, n_jobs=-1).mean()}\")"
   ]
  },
  {
   "cell_type": "code",
   "execution_count": 24,
   "id": "e3d2958b-fc57-48fa-a2d0-b32abaeca285",
   "metadata": {},
   "outputs": [
    {
     "data": {
      "text/html": [
       "<div>\n",
       "<style scoped>\n",
       "    .dataframe tbody tr th:only-of-type {\n",
       "        vertical-align: middle;\n",
       "    }\n",
       "\n",
       "    .dataframe tbody tr th {\n",
       "        vertical-align: top;\n",
       "    }\n",
       "\n",
       "    .dataframe thead th {\n",
       "        text-align: right;\n",
       "    }\n",
       "</style>\n",
       "<table border=\"1\" class=\"dataframe\">\n",
       "  <thead>\n",
       "    <tr style=\"text-align: right;\">\n",
       "      <th></th>\n",
       "      <th>pred neg_WNV</th>\n",
       "      <th>pred pos_WNV</th>\n",
       "    </tr>\n",
       "  </thead>\n",
       "  <tbody>\n",
       "    <tr>\n",
       "      <th>actual neg_WNV</th>\n",
       "      <td>1155</td>\n",
       "      <td>1832</td>\n",
       "    </tr>\n",
       "    <tr>\n",
       "      <th>actual pos_WNV</th>\n",
       "      <td>36</td>\n",
       "      <td>129</td>\n",
       "    </tr>\n",
       "  </tbody>\n",
       "</table>\n",
       "</div>"
      ],
      "text/plain": [
       "                pred neg_WNV  pred pos_WNV\n",
       "actual neg_WNV          1155          1832\n",
       "actual pos_WNV            36           129"
      ]
     },
     "execution_count": 24,
     "metadata": {},
     "output_type": "execute_result"
    }
   ],
   "source": [
    "# Generating the confusion matrix\n",
    "cm = confusion_matrix(y_test, dt.predict(X_test_ss))\n",
    "tn, fp, fn ,tp = cm.ravel()\n",
    "pd.DataFrame(cm, columns = [\"pred neg_WNV\", \"pred pos_WNV\"], index=[\"actual neg_WNV\", \"actual pos_WNV\"])"
   ]
  },
  {
   "cell_type": "code",
   "execution_count": 25,
   "id": "1b6406c1-a4bf-4b37-b762-25d986693cb9",
   "metadata": {},
   "outputs": [
    {
     "data": {
      "text/html": [
       "<div>\n",
       "<style scoped>\n",
       "    .dataframe tbody tr th:only-of-type {\n",
       "        vertical-align: middle;\n",
       "    }\n",
       "\n",
       "    .dataframe tbody tr th {\n",
       "        vertical-align: top;\n",
       "    }\n",
       "\n",
       "    .dataframe thead th {\n",
       "        text-align: right;\n",
       "    }\n",
       "</style>\n",
       "<table border=\"1\" class=\"dataframe\">\n",
       "  <thead>\n",
       "    <tr style=\"text-align: right;\">\n",
       "      <th></th>\n",
       "      <th>precision</th>\n",
       "      <th>recall</th>\n",
       "      <th>f1-score</th>\n",
       "      <th>support</th>\n",
       "    </tr>\n",
       "  </thead>\n",
       "  <tbody>\n",
       "    <tr>\n",
       "      <th>pred neg_WNV</th>\n",
       "      <td>0.969773</td>\n",
       "      <td>0.386676</td>\n",
       "      <td>0.552896</td>\n",
       "      <td>2987.00000</td>\n",
       "    </tr>\n",
       "    <tr>\n",
       "      <th>pred pos_WNV</th>\n",
       "      <td>0.065783</td>\n",
       "      <td>0.781818</td>\n",
       "      <td>0.121355</td>\n",
       "      <td>165.00000</td>\n",
       "    </tr>\n",
       "    <tr>\n",
       "      <th>accuracy</th>\n",
       "      <td>0.407360</td>\n",
       "      <td>0.407360</td>\n",
       "      <td>0.407360</td>\n",
       "      <td>0.40736</td>\n",
       "    </tr>\n",
       "  </tbody>\n",
       "</table>\n",
       "</div>"
      ],
      "text/plain": [
       "              precision    recall  f1-score     support\n",
       "pred neg_WNV   0.969773  0.386676  0.552896  2987.00000\n",
       "pred pos_WNV   0.065783  0.781818  0.121355   165.00000\n",
       "accuracy       0.407360  0.407360  0.407360     0.40736"
      ]
     },
     "execution_count": 25,
     "metadata": {},
     "output_type": "execute_result"
    }
   ],
   "source": [
    "# Generating the classification report\n",
    "report = classification_report(y_test, \n",
    "                               dt.predict(X_test_ss),\n",
    "                               target_names=[\"pred neg_WNV\", \"pred pos_WNV\"], \n",
    "                               output_dict=True)\n",
    "\n",
    "pd.DataFrame(report).drop([\"macro avg\", \"weighted avg\"], axis=1).T"
   ]
  },
  {
   "cell_type": "code",
   "execution_count": 26,
   "id": "491b0542-e9ed-4c8c-9dbd-a7de9afcd2da",
   "metadata": {},
   "outputs": [
    {
     "name": "stdout",
     "output_type": "stream",
     "text": [
      "-----Decision Tree Classifier-----\n"
     ]
    },
    {
     "data": {
      "text/plain": [
       "0.5830386219070518"
      ]
     },
     "execution_count": 26,
     "metadata": {},
     "output_type": "execute_result"
    }
   ],
   "source": [
    "#compute roc_auc_score\n",
    "roc_score = roc_auc_score(y_test, dt.predict_proba(X_test_ss)[:,1])\n",
    "print(\"-----Decision Tree Classifier-----\")\n",
    "roc_score"
   ]
  },
  {
   "cell_type": "markdown",
   "id": "80de7819-68d3-4845-b964-29e20dcf185f",
   "metadata": {},
   "source": [
    "### Support Vector Classifier"
   ]
  },
  {
   "cell_type": "code",
   "execution_count": 27,
   "id": "aa86d221-d62b-4a29-86ee-08a3da000c69",
   "metadata": {},
   "outputs": [
    {
     "data": {
      "text/plain": [
       "SVC(probability=True)"
      ]
     },
     "execution_count": 27,
     "metadata": {},
     "output_type": "execute_result"
    }
   ],
   "source": [
    "#initialize and fit to the our dataset\n",
    "sv = SVC(probability=True)\n",
    "sv.fit(X_train_smt_ss, y_train_smt)"
   ]
  },
  {
   "cell_type": "code",
   "execution_count": 28,
   "id": "d9792b3f-16a8-4d52-b156-db7381446bca",
   "metadata": {},
   "outputs": [
    {
     "name": "stdout",
     "output_type": "stream",
     "text": [
      "----------Support Vector Classifier----------\n",
      "X_train score: 0.8814580941446614\n",
      "X_test score: 0.7763324873096447\n",
      "Cross_val training score: 0.8656725671631141\n"
     ]
    }
   ],
   "source": [
    "# Obtaining the train / test and cross validation score\n",
    "print(\"----------Support Vector Classifier----------\")\n",
    "print(f\"X_train score: {sv.score(X_train_smt_ss, y_train_smt)}\")   # Training set\n",
    "print(f\"X_test score: {sv.score(X_test_ss, y_test)}\")   # Test set\n",
    "print(f\"Cross_val training score: {cross_val_score(sv, X_train_smt_ss, y_train_smt, cv=3, n_jobs=-1).mean()}\")"
   ]
  },
  {
   "cell_type": "code",
   "execution_count": 29,
   "id": "b2dc7870-cc64-49f0-9a86-fa4148140faf",
   "metadata": {},
   "outputs": [
    {
     "data": {
      "text/html": [
       "<div>\n",
       "<style scoped>\n",
       "    .dataframe tbody tr th:only-of-type {\n",
       "        vertical-align: middle;\n",
       "    }\n",
       "\n",
       "    .dataframe tbody tr th {\n",
       "        vertical-align: top;\n",
       "    }\n",
       "\n",
       "    .dataframe thead th {\n",
       "        text-align: right;\n",
       "    }\n",
       "</style>\n",
       "<table border=\"1\" class=\"dataframe\">\n",
       "  <thead>\n",
       "    <tr style=\"text-align: right;\">\n",
       "      <th></th>\n",
       "      <th>pred neg_WNV</th>\n",
       "      <th>pred pos_WNV</th>\n",
       "    </tr>\n",
       "  </thead>\n",
       "  <tbody>\n",
       "    <tr>\n",
       "      <th>actual neg_WNV</th>\n",
       "      <td>2341</td>\n",
       "      <td>646</td>\n",
       "    </tr>\n",
       "    <tr>\n",
       "      <th>actual pos_WNV</th>\n",
       "      <td>59</td>\n",
       "      <td>106</td>\n",
       "    </tr>\n",
       "  </tbody>\n",
       "</table>\n",
       "</div>"
      ],
      "text/plain": [
       "                pred neg_WNV  pred pos_WNV\n",
       "actual neg_WNV          2341           646\n",
       "actual pos_WNV            59           106"
      ]
     },
     "execution_count": 29,
     "metadata": {},
     "output_type": "execute_result"
    }
   ],
   "source": [
    "# Generating the confusion matrix\n",
    "cm = confusion_matrix(y_test, sv.predict(X_test_ss))\n",
    "tn, fp, fn ,tp = cm.ravel()\n",
    "pd.DataFrame(cm, columns = [\"pred neg_WNV\", \"pred pos_WNV\"], index=[\"actual neg_WNV\", \"actual pos_WNV\"])"
   ]
  },
  {
   "cell_type": "code",
   "execution_count": 30,
   "id": "d48585e1-c267-4b26-a8a8-1f084735f683",
   "metadata": {},
   "outputs": [
    {
     "data": {
      "text/html": [
       "<div>\n",
       "<style scoped>\n",
       "    .dataframe tbody tr th:only-of-type {\n",
       "        vertical-align: middle;\n",
       "    }\n",
       "\n",
       "    .dataframe tbody tr th {\n",
       "        vertical-align: top;\n",
       "    }\n",
       "\n",
       "    .dataframe thead th {\n",
       "        text-align: right;\n",
       "    }\n",
       "</style>\n",
       "<table border=\"1\" class=\"dataframe\">\n",
       "  <thead>\n",
       "    <tr style=\"text-align: right;\">\n",
       "      <th></th>\n",
       "      <th>precision</th>\n",
       "      <th>recall</th>\n",
       "      <th>f1-score</th>\n",
       "      <th>support</th>\n",
       "    </tr>\n",
       "  </thead>\n",
       "  <tbody>\n",
       "    <tr>\n",
       "      <th>pred neg_WNV</th>\n",
       "      <td>0.975417</td>\n",
       "      <td>0.783729</td>\n",
       "      <td>0.869129</td>\n",
       "      <td>2987.000000</td>\n",
       "    </tr>\n",
       "    <tr>\n",
       "      <th>pred pos_WNV</th>\n",
       "      <td>0.140957</td>\n",
       "      <td>0.642424</td>\n",
       "      <td>0.231189</td>\n",
       "      <td>165.000000</td>\n",
       "    </tr>\n",
       "    <tr>\n",
       "      <th>accuracy</th>\n",
       "      <td>0.776332</td>\n",
       "      <td>0.776332</td>\n",
       "      <td>0.776332</td>\n",
       "      <td>0.776332</td>\n",
       "    </tr>\n",
       "  </tbody>\n",
       "</table>\n",
       "</div>"
      ],
      "text/plain": [
       "              precision    recall  f1-score      support\n",
       "pred neg_WNV   0.975417  0.783729  0.869129  2987.000000\n",
       "pred pos_WNV   0.140957  0.642424  0.231189   165.000000\n",
       "accuracy       0.776332  0.776332  0.776332     0.776332"
      ]
     },
     "execution_count": 30,
     "metadata": {},
     "output_type": "execute_result"
    }
   ],
   "source": [
    "# Generating the classification report\n",
    "report = classification_report(y_test, \n",
    "                               sv.predict(X_test_ss),\n",
    "                               target_names=[\"pred neg_WNV\", \"pred pos_WNV\"], \n",
    "                               output_dict=True)\n",
    "\n",
    "pd.DataFrame(report).drop([\"macro avg\", \"weighted avg\"], axis=1).T"
   ]
  },
  {
   "cell_type": "code",
   "execution_count": 31,
   "id": "3b963704-b020-484e-931a-9a79080a6736",
   "metadata": {},
   "outputs": [
    {
     "name": "stdout",
     "output_type": "stream",
     "text": [
      "-----Support Vector Classifier-----\n"
     ]
    },
    {
     "data": {
      "text/plain": [
       "0.7518955879518316"
      ]
     },
     "execution_count": 31,
     "metadata": {},
     "output_type": "execute_result"
    }
   ],
   "source": [
    "#compute roc_auc_score\n",
    "roc_score = roc_auc_score(y_test, sv.predict_proba(X_test_ss)[:,1])\n",
    "print(\"-----Support Vector Classifier-----\")\n",
    "roc_score"
   ]
  },
  {
   "cell_type": "markdown",
   "id": "bc853508-a994-4054-a292-0271083d4502",
   "metadata": {},
   "source": [
    "### Gradient Boost Classifier"
   ]
  },
  {
   "cell_type": "code",
   "execution_count": 32,
   "id": "bf12971e-83d6-4d17-a865-7b5d118596dc",
   "metadata": {},
   "outputs": [
    {
     "data": {
      "text/plain": [
       "GradientBoostingClassifier()"
      ]
     },
     "execution_count": 32,
     "metadata": {},
     "output_type": "execute_result"
    }
   ],
   "source": [
    "#initialize and fit to the our dataset\n",
    "gb = GradientBoostingClassifier()\n",
    "gb.fit(X_train_smt_ss, y_train_smt)"
   ]
  },
  {
   "cell_type": "code",
   "execution_count": 33,
   "id": "dc874b5b-c48a-488f-b536-c5d954ce367d",
   "metadata": {},
   "outputs": [
    {
     "name": "stdout",
     "output_type": "stream",
     "text": [
      "----------Gradient Boost Classifier----------\n",
      "X_train score: 0.9067881745120551\n",
      "X_test score: 0.35374365482233505\n",
      "Cross_val training score: 0.8999723981383957\n"
     ]
    }
   ],
   "source": [
    "# Obtaining the train / test and cross validation score\n",
    "print(\"----------Gradient Boost Classifier----------\")\n",
    "print(f\"X_train score: {gb.score(X_train_smt_ss, y_train_smt)}\")   # Training set\n",
    "print(f\"X_test score: {gb.score(X_test_ss, y_test)}\")   # Test set\n",
    "print(f\"Cross_val training score: {cross_val_score(gb, X_train_smt_ss, y_train_smt, cv=3, n_jobs=-1).mean()}\")"
   ]
  },
  {
   "cell_type": "code",
   "execution_count": 34,
   "id": "f94dc3c7-ee7f-4fc3-89b4-412199dcf95d",
   "metadata": {},
   "outputs": [
    {
     "data": {
      "text/html": [
       "<div>\n",
       "<style scoped>\n",
       "    .dataframe tbody tr th:only-of-type {\n",
       "        vertical-align: middle;\n",
       "    }\n",
       "\n",
       "    .dataframe tbody tr th {\n",
       "        vertical-align: top;\n",
       "    }\n",
       "\n",
       "    .dataframe thead th {\n",
       "        text-align: right;\n",
       "    }\n",
       "</style>\n",
       "<table border=\"1\" class=\"dataframe\">\n",
       "  <thead>\n",
       "    <tr style=\"text-align: right;\">\n",
       "      <th></th>\n",
       "      <th>pred neg_WNV</th>\n",
       "      <th>pred pos_WNV</th>\n",
       "    </tr>\n",
       "  </thead>\n",
       "  <tbody>\n",
       "    <tr>\n",
       "      <th>actual neg_WNV</th>\n",
       "      <td>963</td>\n",
       "      <td>2024</td>\n",
       "    </tr>\n",
       "    <tr>\n",
       "      <th>actual pos_WNV</th>\n",
       "      <td>13</td>\n",
       "      <td>152</td>\n",
       "    </tr>\n",
       "  </tbody>\n",
       "</table>\n",
       "</div>"
      ],
      "text/plain": [
       "                pred neg_WNV  pred pos_WNV\n",
       "actual neg_WNV           963          2024\n",
       "actual pos_WNV            13           152"
      ]
     },
     "execution_count": 34,
     "metadata": {},
     "output_type": "execute_result"
    }
   ],
   "source": [
    "# Generating the confusion matrix\n",
    "cm = confusion_matrix(y_test, gb.predict(X_test_ss))\n",
    "tn, fp, fn ,tp = cm.ravel()\n",
    "pd.DataFrame(cm, columns = [\"pred neg_WNV\", \"pred pos_WNV\"], index=[\"actual neg_WNV\", \"actual pos_WNV\"])"
   ]
  },
  {
   "cell_type": "code",
   "execution_count": 35,
   "id": "00f91927-860f-45b0-a9d3-632fbe5ea1cd",
   "metadata": {},
   "outputs": [
    {
     "data": {
      "text/html": [
       "<div>\n",
       "<style scoped>\n",
       "    .dataframe tbody tr th:only-of-type {\n",
       "        vertical-align: middle;\n",
       "    }\n",
       "\n",
       "    .dataframe tbody tr th {\n",
       "        vertical-align: top;\n",
       "    }\n",
       "\n",
       "    .dataframe thead th {\n",
       "        text-align: right;\n",
       "    }\n",
       "</style>\n",
       "<table border=\"1\" class=\"dataframe\">\n",
       "  <thead>\n",
       "    <tr style=\"text-align: right;\">\n",
       "      <th></th>\n",
       "      <th>precision</th>\n",
       "      <th>recall</th>\n",
       "      <th>f1-score</th>\n",
       "      <th>support</th>\n",
       "    </tr>\n",
       "  </thead>\n",
       "  <tbody>\n",
       "    <tr>\n",
       "      <th>pred neg_WNV</th>\n",
       "      <td>0.986680</td>\n",
       "      <td>0.322397</td>\n",
       "      <td>0.485995</td>\n",
       "      <td>2987.000000</td>\n",
       "    </tr>\n",
       "    <tr>\n",
       "      <th>pred pos_WNV</th>\n",
       "      <td>0.069853</td>\n",
       "      <td>0.921212</td>\n",
       "      <td>0.129859</td>\n",
       "      <td>165.000000</td>\n",
       "    </tr>\n",
       "    <tr>\n",
       "      <th>accuracy</th>\n",
       "      <td>0.353744</td>\n",
       "      <td>0.353744</td>\n",
       "      <td>0.353744</td>\n",
       "      <td>0.353744</td>\n",
       "    </tr>\n",
       "  </tbody>\n",
       "</table>\n",
       "</div>"
      ],
      "text/plain": [
       "              precision    recall  f1-score      support\n",
       "pred neg_WNV   0.986680  0.322397  0.485995  2987.000000\n",
       "pred pos_WNV   0.069853  0.921212  0.129859   165.000000\n",
       "accuracy       0.353744  0.353744  0.353744     0.353744"
      ]
     },
     "execution_count": 35,
     "metadata": {},
     "output_type": "execute_result"
    }
   ],
   "source": [
    "# Generating the classification report\n",
    "report = classification_report(y_test, \n",
    "                               gb.predict(X_test_ss),\n",
    "                               target_names=[\"pred neg_WNV\", \"pred pos_WNV\"], \n",
    "                               output_dict=True)\n",
    "\n",
    "pd.DataFrame(report).drop([\"macro avg\", \"weighted avg\"], axis=1).T"
   ]
  },
  {
   "cell_type": "code",
   "execution_count": 36,
   "id": "ff99c01a-b158-414b-b5b2-a283a7428a0c",
   "metadata": {},
   "outputs": [
    {
     "name": "stdout",
     "output_type": "stream",
     "text": [
      "-----Gradient Boost Classifier-----\n"
     ]
    },
    {
     "data": {
      "text/plain": [
       "0.7256769232329995"
      ]
     },
     "execution_count": 36,
     "metadata": {},
     "output_type": "execute_result"
    }
   ],
   "source": [
    "#compute roc_auc_score\n",
    "roc_score = roc_auc_score(y_test, gb.predict_proba(X_test_ss)[:,1])\n",
    "print(\"-----Gradient Boost Classifier-----\")\n",
    "roc_score"
   ]
  },
  {
   "cell_type": "markdown",
   "id": "fdbfbf63-d5c5-4d1a-8c12-b1785fdfdc41",
   "metadata": {},
   "source": [
    "### AdaBoost Classifier"
   ]
  },
  {
   "cell_type": "code",
   "execution_count": 37,
   "id": "64effaa7-3049-4755-857b-9353cc270258",
   "metadata": {},
   "outputs": [
    {
     "data": {
      "text/plain": [
       "AdaBoostClassifier()"
      ]
     },
     "execution_count": 37,
     "metadata": {},
     "output_type": "execute_result"
    }
   ],
   "source": [
    "#initialize and fit to the our dataset\n",
    "ab = AdaBoostClassifier()\n",
    "ab.fit(X_train_smt_ss, y_train_smt)"
   ]
  },
  {
   "cell_type": "code",
   "execution_count": 38,
   "id": "8156894a-ce43-4ab6-804b-2caa642d369c",
   "metadata": {},
   "outputs": [
    {
     "name": "stdout",
     "output_type": "stream",
     "text": [
      "----------Ada Boost Classifier----------\n",
      "X_train score: 0.8653846153846154\n",
      "X_test score: 0.3531091370558376\n",
      "Cross_val training score: 0.8651707137297714\n"
     ]
    }
   ],
   "source": [
    "# Obtaining the train / test and cross validation score\n",
    "print(\"----------Ada Boost Classifier----------\")\n",
    "print(f\"X_train score: {ab.score(X_train_smt_ss, y_train_smt)}\")   # Training set\n",
    "print(f\"X_test score: {ab.score(X_test_ss, y_test)}\")   # Test set\n",
    "print(f\"Cross_val training score: {cross_val_score(ab, X_train_smt_ss, y_train_smt, cv=3, n_jobs=-1).mean()}\")"
   ]
  },
  {
   "cell_type": "code",
   "execution_count": 39,
   "id": "09cef82a-b117-475e-bd14-9d9659e7be6b",
   "metadata": {},
   "outputs": [
    {
     "data": {
      "text/html": [
       "<div>\n",
       "<style scoped>\n",
       "    .dataframe tbody tr th:only-of-type {\n",
       "        vertical-align: middle;\n",
       "    }\n",
       "\n",
       "    .dataframe tbody tr th {\n",
       "        vertical-align: top;\n",
       "    }\n",
       "\n",
       "    .dataframe thead th {\n",
       "        text-align: right;\n",
       "    }\n",
       "</style>\n",
       "<table border=\"1\" class=\"dataframe\">\n",
       "  <thead>\n",
       "    <tr style=\"text-align: right;\">\n",
       "      <th></th>\n",
       "      <th>pred neg_WNV</th>\n",
       "      <th>pred pos_WNV</th>\n",
       "    </tr>\n",
       "  </thead>\n",
       "  <tbody>\n",
       "    <tr>\n",
       "      <th>actual neg_WNV</th>\n",
       "      <td>957</td>\n",
       "      <td>2030</td>\n",
       "    </tr>\n",
       "    <tr>\n",
       "      <th>actual pos_WNV</th>\n",
       "      <td>9</td>\n",
       "      <td>156</td>\n",
       "    </tr>\n",
       "  </tbody>\n",
       "</table>\n",
       "</div>"
      ],
      "text/plain": [
       "                pred neg_WNV  pred pos_WNV\n",
       "actual neg_WNV           957          2030\n",
       "actual pos_WNV             9           156"
      ]
     },
     "execution_count": 39,
     "metadata": {},
     "output_type": "execute_result"
    }
   ],
   "source": [
    "# Generating the confusion matrix\n",
    "cm = confusion_matrix(y_test, ab.predict(X_test_ss))\n",
    "tn, fp, fn ,tp = cm.ravel()\n",
    "pd.DataFrame(cm, columns = [\"pred neg_WNV\", \"pred pos_WNV\"], index=[\"actual neg_WNV\", \"actual pos_WNV\"])"
   ]
  },
  {
   "cell_type": "code",
   "execution_count": 40,
   "id": "762d1a16-52aa-4096-8068-fafc62e7c58e",
   "metadata": {},
   "outputs": [
    {
     "data": {
      "text/html": [
       "<div>\n",
       "<style scoped>\n",
       "    .dataframe tbody tr th:only-of-type {\n",
       "        vertical-align: middle;\n",
       "    }\n",
       "\n",
       "    .dataframe tbody tr th {\n",
       "        vertical-align: top;\n",
       "    }\n",
       "\n",
       "    .dataframe thead th {\n",
       "        text-align: right;\n",
       "    }\n",
       "</style>\n",
       "<table border=\"1\" class=\"dataframe\">\n",
       "  <thead>\n",
       "    <tr style=\"text-align: right;\">\n",
       "      <th></th>\n",
       "      <th>precision</th>\n",
       "      <th>recall</th>\n",
       "      <th>f1-score</th>\n",
       "      <th>support</th>\n",
       "    </tr>\n",
       "  </thead>\n",
       "  <tbody>\n",
       "    <tr>\n",
       "      <th>pred neg_WNV</th>\n",
       "      <td>0.990683</td>\n",
       "      <td>0.320388</td>\n",
       "      <td>0.484189</td>\n",
       "      <td>2987.000000</td>\n",
       "    </tr>\n",
       "    <tr>\n",
       "      <th>pred pos_WNV</th>\n",
       "      <td>0.071363</td>\n",
       "      <td>0.945455</td>\n",
       "      <td>0.132709</td>\n",
       "      <td>165.000000</td>\n",
       "    </tr>\n",
       "    <tr>\n",
       "      <th>accuracy</th>\n",
       "      <td>0.353109</td>\n",
       "      <td>0.353109</td>\n",
       "      <td>0.353109</td>\n",
       "      <td>0.353109</td>\n",
       "    </tr>\n",
       "  </tbody>\n",
       "</table>\n",
       "</div>"
      ],
      "text/plain": [
       "              precision    recall  f1-score      support\n",
       "pred neg_WNV   0.990683  0.320388  0.484189  2987.000000\n",
       "pred pos_WNV   0.071363  0.945455  0.132709   165.000000\n",
       "accuracy       0.353109  0.353109  0.353109     0.353109"
      ]
     },
     "execution_count": 40,
     "metadata": {},
     "output_type": "execute_result"
    }
   ],
   "source": [
    "# Generating the classification report\n",
    "report = classification_report(y_test, \n",
    "                               ab.predict(X_test_ss),\n",
    "                               target_names=[\"pred neg_WNV\", \"pred pos_WNV\"], \n",
    "                               output_dict=True)\n",
    "\n",
    "pd.DataFrame(report).drop([\"macro avg\", \"weighted avg\"], axis=1).T"
   ]
  },
  {
   "cell_type": "code",
   "execution_count": 41,
   "id": "90f635ab-b55e-451e-a4b0-15b1899e6408",
   "metadata": {},
   "outputs": [
    {
     "name": "stdout",
     "output_type": "stream",
     "text": [
      "-----Ada Boost Classifier-----\n"
     ]
    },
    {
     "data": {
      "text/plain": [
       "0.6925586632985361"
      ]
     },
     "execution_count": 41,
     "metadata": {},
     "output_type": "execute_result"
    }
   ],
   "source": [
    "#compute roc_auc_score\n",
    "roc_score = roc_auc_score(y_test, ab.predict_proba(X_test_ss)[:,1])\n",
    "print(\"-----Ada Boost Classifier-----\")\n",
    "roc_score"
   ]
  },
  {
   "cell_type": "code",
   "execution_count": 42,
   "id": "92c13de4-8e29-435e-b84f-67b4776c84a0",
   "metadata": {},
   "outputs": [],
   "source": [
    "init_dict = {\n",
    "    lr: 'LogisticRegression',\n",
    "    knn: 'KNeighborsClassifier',\n",
    "    gb: 'GradientBoostingClassifier',\n",
    "    ab: 'AdaBoostClassifier',\n",
    "    sv: 'SupportVectorMachine',\n",
    "    dt: 'DecisionTreeClassifier',\n",
    "}"
   ]
  },
  {
   "cell_type": "code",
   "execution_count": 43,
   "id": "afb62b0b-5895-48e5-bcd0-05d29e1f2de4",
   "metadata": {},
   "outputs": [],
   "source": [
    "#create function to plot roc_auc curve\n",
    "def roc_curve_plotter(model_dict, plot_top=False):\n",
    "    fig, ax = plt.subplots(1, 1, figsize=(12,10))\n",
    "    axes = {}\n",
    "    for i, m in enumerate(model_dict.keys()):\n",
    "        axes[f'ax{i}'] = plot_roc_curve(m, X_test_ss, y_test, ax=ax, name=model_dict[m])\n",
    "    if plot_top:\n",
    "        for i, a in enumerate(axes):\n",
    "            if i != 0:\n",
    "                axes[a].line_.set_color('lightgrey')\n",
    "    plt.plot([0, 1], [0, 1], color='black', lw=2, linestyle='--', label='Random Guess')\n",
    "    plt.title('ROC-AUC Curve Comparison', fontsize=22)\n",
    "    plt.xlabel('False Positive Rate', fontsize=12)\n",
    "    plt.ylabel('True Positive Rate', fontsize=12)\n",
    "    plt.legend(fontsize=12)"
   ]
  },
  {
   "cell_type": "code",
   "execution_count": 44,
   "id": "6e69e94c-2cc3-4e14-954f-cf6056d16295",
   "metadata": {},
   "outputs": [
    {
     "name": "stderr",
     "output_type": "stream",
     "text": [
      "/opt/anaconda3/envs/dsi-sg/lib/python3.8/site-packages/sklearn/utils/deprecation.py:87: FutureWarning: Function plot_roc_curve is deprecated; Function :func:`plot_roc_curve` is deprecated in 1.0 and will be removed in 1.2. Use one of the class methods: :meth:`sklearn.metric.RocCurveDisplay.from_predictions` or :meth:`sklearn.metric.RocCurveDisplay.from_estimator`.\n",
      "  warnings.warn(msg, category=FutureWarning)\n",
      "/opt/anaconda3/envs/dsi-sg/lib/python3.8/site-packages/sklearn/utils/deprecation.py:87: FutureWarning: Function plot_roc_curve is deprecated; Function :func:`plot_roc_curve` is deprecated in 1.0 and will be removed in 1.2. Use one of the class methods: :meth:`sklearn.metric.RocCurveDisplay.from_predictions` or :meth:`sklearn.metric.RocCurveDisplay.from_estimator`.\n",
      "  warnings.warn(msg, category=FutureWarning)\n",
      "/opt/anaconda3/envs/dsi-sg/lib/python3.8/site-packages/sklearn/utils/deprecation.py:87: FutureWarning: Function plot_roc_curve is deprecated; Function :func:`plot_roc_curve` is deprecated in 1.0 and will be removed in 1.2. Use one of the class methods: :meth:`sklearn.metric.RocCurveDisplay.from_predictions` or :meth:`sklearn.metric.RocCurveDisplay.from_estimator`.\n",
      "  warnings.warn(msg, category=FutureWarning)\n",
      "/opt/anaconda3/envs/dsi-sg/lib/python3.8/site-packages/sklearn/utils/deprecation.py:87: FutureWarning: Function plot_roc_curve is deprecated; Function :func:`plot_roc_curve` is deprecated in 1.0 and will be removed in 1.2. Use one of the class methods: :meth:`sklearn.metric.RocCurveDisplay.from_predictions` or :meth:`sklearn.metric.RocCurveDisplay.from_estimator`.\n",
      "  warnings.warn(msg, category=FutureWarning)\n",
      "/opt/anaconda3/envs/dsi-sg/lib/python3.8/site-packages/sklearn/utils/deprecation.py:87: FutureWarning: Function plot_roc_curve is deprecated; Function :func:`plot_roc_curve` is deprecated in 1.0 and will be removed in 1.2. Use one of the class methods: :meth:`sklearn.metric.RocCurveDisplay.from_predictions` or :meth:`sklearn.metric.RocCurveDisplay.from_estimator`.\n",
      "  warnings.warn(msg, category=FutureWarning)\n",
      "/opt/anaconda3/envs/dsi-sg/lib/python3.8/site-packages/sklearn/utils/deprecation.py:87: FutureWarning: Function plot_roc_curve is deprecated; Function :func:`plot_roc_curve` is deprecated in 1.0 and will be removed in 1.2. Use one of the class methods: :meth:`sklearn.metric.RocCurveDisplay.from_predictions` or :meth:`sklearn.metric.RocCurveDisplay.from_estimator`.\n",
      "  warnings.warn(msg, category=FutureWarning)\n"
     ]
    },
    {
     "data": {
      "image/png": "[encoded data removed]",
      "text/plain": [
       "<Figure size 864x720 with 1 Axes>"
      ]
     },
     "metadata": {
      "needs_background": "light"
     },
     "output_type": "display_data"
    }
   ],
   "source": [
    "# plot roc_auc curve\n",
    "roc_curve_plotter(init_dict)"
   ]
  },
  {
   "cell_type": "markdown",
   "id": "696b578d-1009-4b22-84fe-48c02be94a84",
   "metadata": {},
   "source": [
    "<b>Comments:</b> <br>\n",
    "From the curve, we observe that K-Nearest Neighbors and Decision Tree have a sharp drop off after a specific threshold. We can conclude that Logistic Regression has the best ROC-AUC score. "
   ]
  }
 ],
 "metadata": {
  "kernelspec": {
   "display_name": "Python 3 (ipykernel)",
   "language": "python",
   "name": "python3"
  },
  "language_info": {
   "codemirror_mode": {
    "name": "ipython",
    "version": 3
   },
   "file_extension": ".py",
   "mimetype": "text/x-python",
   "name": "python",
   "nbconvert_exporter": "python",
   "pygments_lexer": "ipython3",
   "version": "3.8.12"
  }
 },
 "nbformat": 4,
 "nbformat_minor": 5
}
